{
 "cells": [
  {
   "cell_type": "markdown",
   "metadata": {},
   "source": [
    "## NLP - Movie Genre prediction based on movie description\n",
    "\n",
    "#### 1. Text Cleaning & Processing\n",
    "* Cleaning\n",
    "* Normalization\n",
    "* Tokenization\n",
    "* Stop word removal\n",
    "* POS - parts of speech tagging\n",
    "* NER - named entity recognition\n",
    "* Stemming & Lemmatization\n",
    "\n",
    "#### 2. Feature Extraction\n",
    "* Bag of Words\n",
    "* TF-IDF (term frequency–inverse document frequency)\n",
    "* Word embeddings\n",
    "\n",
    "#### 3. Modeling\n",
    "\n",
    "#### Practice notebook referring tutorial - https://www.kaggle.com/lykin22/movies-genre-classification-nlp"
   ]
  },
  {
   "cell_type": "code",
   "execution_count": 18,
   "metadata": {},
   "outputs": [
    {
     "data": {
      "text/html": [
       "<style>.container { width:60% !important; }</style>"
      ],
      "text/plain": [
       "<IPython.core.display.HTML object>"
      ]
     },
     "metadata": {},
     "output_type": "display_data"
    }
   ],
   "source": [
    "from IPython.core.display import display, HTML\n",
    "display(HTML(\"<style>.container { width:60% !important; }</style>\"))"
   ]
  },
  {
   "cell_type": "code",
   "execution_count": 19,
   "metadata": {},
   "outputs": [],
   "source": [
    "# Imports\n",
    "import io\n",
    "import sys\n",
    "import json\n",
    "import math\n",
    "import nltk\n",
    "\n",
    "import numpy as np\n",
    "import pandas as pd\n",
    "import datetime as dt\n",
    "import seaborn as sns\n",
    "\n",
    "import plotly.graph_objs as go\n",
    "import matplotlib.pyplot as plt\n",
    "import matplotlib.ticker as ticker\n",
    "\n",
    "from PIL import Image\n",
    "from plotly import __version__\n",
    "from collections import Counter\n",
    "\n",
    "# For Text pre-processing\n",
    "from nltk.corpus import stopwords\n",
    "from nltk.stem import PorterStemmer\n",
    "from nltk.tokenize import word_tokenize\n",
    "from nltk.stem import WordNetLemmatizer\n",
    "from nltk import word_tokenize, pos_tag, pos_tag_sents\n",
    "\n",
    "# Sklearn\n",
    "# Performance metrics\n",
    "from sklearn.metrics import f1_score \n",
    "from sklearn.metrics import accuracy_score\n",
    "# Binary Relevance\n",
    "from sklearn.multiclass import OneVsRestClassifier \n",
    "# Model\n",
    "from sklearn.metrics import confusion_matrix\n",
    "from sklearn.naive_bayes import MultinomialNB\n",
    "from sklearn.linear_model import LogisticRegression\n",
    "from sklearn.preprocessing import MultiLabelBinarizer\n",
    "from sklearn import model_selection, naive_bayes, svm\n",
    "from sklearn.model_selection import train_test_split\n",
    "from sklearn.feature_extraction.text import TfidfVectorizer\n",
    "from sklearn.feature_extraction.text import CountVectorizer\n",
    "\n",
    "# Visualize\n",
    "from wordcloud import WordCloud, STOPWORDS"
   ]
  },
  {
   "cell_type": "code",
   "execution_count": 20,
   "metadata": {
    "scrolled": true
   },
   "outputs": [
    {
     "data": {
      "text/html": [
       "<div>\n",
       "<style scoped>\n",
       "    .dataframe tbody tr th:only-of-type {\n",
       "        vertical-align: middle;\n",
       "    }\n",
       "\n",
       "    .dataframe tbody tr th {\n",
       "        vertical-align: top;\n",
       "    }\n",
       "\n",
       "    .dataframe thead th {\n",
       "        text-align: right;\n",
       "    }\n",
       "</style>\n",
       "<table border=\"1\" class=\"dataframe\">\n",
       "  <thead>\n",
       "    <tr style=\"text-align: right;\">\n",
       "      <th></th>\n",
       "      <th>Poster_Link</th>\n",
       "      <th>Series_Title</th>\n",
       "      <th>Released_Year</th>\n",
       "      <th>Certificate</th>\n",
       "      <th>Runtime</th>\n",
       "      <th>Genre</th>\n",
       "      <th>IMDB_Rating</th>\n",
       "      <th>Overview</th>\n",
       "      <th>Meta_score</th>\n",
       "      <th>Director</th>\n",
       "      <th>Star1</th>\n",
       "      <th>Star2</th>\n",
       "      <th>Star3</th>\n",
       "      <th>Star4</th>\n",
       "      <th>No_of_Votes</th>\n",
       "      <th>Gross</th>\n",
       "    </tr>\n",
       "  </thead>\n",
       "  <tbody>\n",
       "    <tr>\n",
       "      <th>0</th>\n",
       "      <td>https://m.media-amazon.com/images/M/MV5BMDFkYT...</td>\n",
       "      <td>The Shawshank Redemption</td>\n",
       "      <td>1994</td>\n",
       "      <td>A</td>\n",
       "      <td>142 min</td>\n",
       "      <td>Drama</td>\n",
       "      <td>9.3</td>\n",
       "      <td>Two imprisoned men bond over a number of years...</td>\n",
       "      <td>80.0</td>\n",
       "      <td>Frank Darabont</td>\n",
       "      <td>Tim Robbins</td>\n",
       "      <td>Morgan Freeman</td>\n",
       "      <td>Bob Gunton</td>\n",
       "      <td>William Sadler</td>\n",
       "      <td>2343110</td>\n",
       "      <td>28,341,469</td>\n",
       "    </tr>\n",
       "    <tr>\n",
       "      <th>1</th>\n",
       "      <td>https://m.media-amazon.com/images/M/MV5BM2MyNj...</td>\n",
       "      <td>The Godfather</td>\n",
       "      <td>1972</td>\n",
       "      <td>A</td>\n",
       "      <td>175 min</td>\n",
       "      <td>Crime, Drama</td>\n",
       "      <td>9.2</td>\n",
       "      <td>An organized crime dynasty's aging patriarch t...</td>\n",
       "      <td>100.0</td>\n",
       "      <td>Francis Ford Coppola</td>\n",
       "      <td>Marlon Brando</td>\n",
       "      <td>Al Pacino</td>\n",
       "      <td>James Caan</td>\n",
       "      <td>Diane Keaton</td>\n",
       "      <td>1620367</td>\n",
       "      <td>134,966,411</td>\n",
       "    </tr>\n",
       "    <tr>\n",
       "      <th>2</th>\n",
       "      <td>https://m.media-amazon.com/images/M/MV5BMTMxNT...</td>\n",
       "      <td>The Dark Knight</td>\n",
       "      <td>2008</td>\n",
       "      <td>UA</td>\n",
       "      <td>152 min</td>\n",
       "      <td>Action, Crime, Drama</td>\n",
       "      <td>9.0</td>\n",
       "      <td>When the menace known as the Joker wreaks havo...</td>\n",
       "      <td>84.0</td>\n",
       "      <td>Christopher Nolan</td>\n",
       "      <td>Christian Bale</td>\n",
       "      <td>Heath Ledger</td>\n",
       "      <td>Aaron Eckhart</td>\n",
       "      <td>Michael Caine</td>\n",
       "      <td>2303232</td>\n",
       "      <td>534,858,444</td>\n",
       "    </tr>\n",
       "    <tr>\n",
       "      <th>3</th>\n",
       "      <td>https://m.media-amazon.com/images/M/MV5BMWMwMG...</td>\n",
       "      <td>The Godfather: Part II</td>\n",
       "      <td>1974</td>\n",
       "      <td>A</td>\n",
       "      <td>202 min</td>\n",
       "      <td>Crime, Drama</td>\n",
       "      <td>9.0</td>\n",
       "      <td>The early life and career of Vito Corleone in ...</td>\n",
       "      <td>90.0</td>\n",
       "      <td>Francis Ford Coppola</td>\n",
       "      <td>Al Pacino</td>\n",
       "      <td>Robert De Niro</td>\n",
       "      <td>Robert Duvall</td>\n",
       "      <td>Diane Keaton</td>\n",
       "      <td>1129952</td>\n",
       "      <td>57,300,000</td>\n",
       "    </tr>\n",
       "    <tr>\n",
       "      <th>4</th>\n",
       "      <td>https://m.media-amazon.com/images/M/MV5BMWU4N2...</td>\n",
       "      <td>12 Angry Men</td>\n",
       "      <td>1957</td>\n",
       "      <td>U</td>\n",
       "      <td>96 min</td>\n",
       "      <td>Crime, Drama</td>\n",
       "      <td>9.0</td>\n",
       "      <td>A jury holdout attempts to prevent a miscarria...</td>\n",
       "      <td>96.0</td>\n",
       "      <td>Sidney Lumet</td>\n",
       "      <td>Henry Fonda</td>\n",
       "      <td>Lee J. Cobb</td>\n",
       "      <td>Martin Balsam</td>\n",
       "      <td>John Fiedler</td>\n",
       "      <td>689845</td>\n",
       "      <td>4,360,000</td>\n",
       "    </tr>\n",
       "  </tbody>\n",
       "</table>\n",
       "</div>"
      ],
      "text/plain": [
       "                                         Poster_Link  \\\n",
       "0  https://m.media-amazon.com/images/M/MV5BMDFkYT...   \n",
       "1  https://m.media-amazon.com/images/M/MV5BM2MyNj...   \n",
       "2  https://m.media-amazon.com/images/M/MV5BMTMxNT...   \n",
       "3  https://m.media-amazon.com/images/M/MV5BMWMwMG...   \n",
       "4  https://m.media-amazon.com/images/M/MV5BMWU4N2...   \n",
       "\n",
       "               Series_Title Released_Year Certificate  Runtime  \\\n",
       "0  The Shawshank Redemption          1994           A  142 min   \n",
       "1             The Godfather          1972           A  175 min   \n",
       "2           The Dark Knight          2008          UA  152 min   \n",
       "3    The Godfather: Part II          1974           A  202 min   \n",
       "4              12 Angry Men          1957           U   96 min   \n",
       "\n",
       "                  Genre  IMDB_Rating  \\\n",
       "0                 Drama          9.3   \n",
       "1          Crime, Drama          9.2   \n",
       "2  Action, Crime, Drama          9.0   \n",
       "3          Crime, Drama          9.0   \n",
       "4          Crime, Drama          9.0   \n",
       "\n",
       "                                            Overview  Meta_score  \\\n",
       "0  Two imprisoned men bond over a number of years...        80.0   \n",
       "1  An organized crime dynasty's aging patriarch t...       100.0   \n",
       "2  When the menace known as the Joker wreaks havo...        84.0   \n",
       "3  The early life and career of Vito Corleone in ...        90.0   \n",
       "4  A jury holdout attempts to prevent a miscarria...        96.0   \n",
       "\n",
       "               Director           Star1           Star2          Star3  \\\n",
       "0        Frank Darabont     Tim Robbins  Morgan Freeman     Bob Gunton   \n",
       "1  Francis Ford Coppola   Marlon Brando       Al Pacino     James Caan   \n",
       "2     Christopher Nolan  Christian Bale    Heath Ledger  Aaron Eckhart   \n",
       "3  Francis Ford Coppola       Al Pacino  Robert De Niro  Robert Duvall   \n",
       "4          Sidney Lumet     Henry Fonda     Lee J. Cobb  Martin Balsam   \n",
       "\n",
       "            Star4  No_of_Votes        Gross  \n",
       "0  William Sadler      2343110   28,341,469  \n",
       "1    Diane Keaton      1620367  134,966,411  \n",
       "2   Michael Caine      2303232  534,858,444  \n",
       "3    Diane Keaton      1129952   57,300,000  \n",
       "4    John Fiedler       689845    4,360,000  "
      ]
     },
     "execution_count": 20,
     "metadata": {},
     "output_type": "execute_result"
    }
   ],
   "source": [
    "## Read the movie genres dataset \n",
    "# https://www.kaggle.com/harshitshankhdhar/imdb-dataset-of-top-1000-movies-and-tv-shows\n",
    "df = pd.read_csv('movie_genres.csv',encoding = \"ISO-8859-1\", engine='python')\n",
    "df.head()"
   ]
  },
  {
   "cell_type": "code",
   "execution_count": 21,
   "metadata": {},
   "outputs": [
    {
     "data": {
      "text/plain": [
       "(1000, 16)"
      ]
     },
     "execution_count": 21,
     "metadata": {},
     "output_type": "execute_result"
    }
   ],
   "source": [
    "df.shape"
   ]
  },
  {
   "cell_type": "code",
   "execution_count": 22,
   "metadata": {
    "scrolled": true
   },
   "outputs": [
    {
     "data": {
      "text/html": [
       "<div>\n",
       "<style scoped>\n",
       "    .dataframe tbody tr th:only-of-type {\n",
       "        vertical-align: middle;\n",
       "    }\n",
       "\n",
       "    .dataframe tbody tr th {\n",
       "        vertical-align: top;\n",
       "    }\n",
       "\n",
       "    .dataframe thead th {\n",
       "        text-align: right;\n",
       "    }\n",
       "</style>\n",
       "<table border=\"1\" class=\"dataframe\">\n",
       "  <thead>\n",
       "    <tr style=\"text-align: right;\">\n",
       "      <th></th>\n",
       "      <th>title</th>\n",
       "      <th>genre</th>\n",
       "      <th>overview</th>\n",
       "    </tr>\n",
       "  </thead>\n",
       "  <tbody>\n",
       "    <tr>\n",
       "      <th>0</th>\n",
       "      <td>The Shawshank Redemption</td>\n",
       "      <td>Drama</td>\n",
       "      <td>Two imprisoned men bond over a number of years...</td>\n",
       "    </tr>\n",
       "    <tr>\n",
       "      <th>1</th>\n",
       "      <td>The Godfather</td>\n",
       "      <td>Crime, Drama</td>\n",
       "      <td>An organized crime dynasty's aging patriarch t...</td>\n",
       "    </tr>\n",
       "    <tr>\n",
       "      <th>2</th>\n",
       "      <td>The Dark Knight</td>\n",
       "      <td>Action, Crime, Drama</td>\n",
       "      <td>When the menace known as the Joker wreaks havo...</td>\n",
       "    </tr>\n",
       "    <tr>\n",
       "      <th>3</th>\n",
       "      <td>The Godfather: Part II</td>\n",
       "      <td>Crime, Drama</td>\n",
       "      <td>The early life and career of Vito Corleone in ...</td>\n",
       "    </tr>\n",
       "    <tr>\n",
       "      <th>4</th>\n",
       "      <td>12 Angry Men</td>\n",
       "      <td>Crime, Drama</td>\n",
       "      <td>A jury holdout attempts to prevent a miscarria...</td>\n",
       "    </tr>\n",
       "  </tbody>\n",
       "</table>\n",
       "</div>"
      ],
      "text/plain": [
       "                      title                 genre  \\\n",
       "0  The Shawshank Redemption                 Drama   \n",
       "1             The Godfather          Crime, Drama   \n",
       "2           The Dark Knight  Action, Crime, Drama   \n",
       "3    The Godfather: Part II          Crime, Drama   \n",
       "4              12 Angry Men          Crime, Drama   \n",
       "\n",
       "                                            overview  \n",
       "0  Two imprisoned men bond over a number of years...  \n",
       "1  An organized crime dynasty's aging patriarch t...  \n",
       "2  When the menace known as the Joker wreaks havo...  \n",
       "3  The early life and career of Vito Corleone in ...  \n",
       "4  A jury holdout attempts to prevent a miscarria...  "
      ]
     },
     "execution_count": 22,
     "metadata": {},
     "output_type": "execute_result"
    }
   ],
   "source": [
    "df = df[['Series_Title','Genre','Overview']]\n",
    "df.columns = ['title','genre','overview']\n",
    "df.head()"
   ]
  },
  {
   "cell_type": "code",
   "execution_count": null,
   "metadata": {},
   "outputs": [],
   "source": []
  },
  {
   "cell_type": "markdown",
   "metadata": {},
   "source": [
    "### Clean text overview"
   ]
  },
  {
   "cell_type": "code",
   "execution_count": 23,
   "metadata": {},
   "outputs": [
    {
     "name": "stderr",
     "output_type": "stream",
     "text": [
      "[nltk_data] Downloading package omw-1.4 to\n",
      "[nltk_data]     /Users/heena.otia/nltk_data...\n",
      "[nltk_data]   Package omw-1.4 is already up-to-date!\n"
     ]
    },
    {
     "data": {
      "text/plain": [
       "True"
      ]
     },
     "execution_count": 23,
     "metadata": {},
     "output_type": "execute_result"
    }
   ],
   "source": [
    "nltk.download('omw-1.4')"
   ]
  },
  {
   "cell_type": "code",
   "execution_count": 24,
   "metadata": {},
   "outputs": [],
   "source": [
    "## Clean the movie overview text\n",
    "def text_preprocess(sentence):\n",
    "    # convert text to lowercase\n",
    "    sentence=str(sentence)\n",
    "    sentence = sentence.lower()\n",
    "    \n",
    "    # A tokenizer that splits a string using a regular expression, which matches either the tokens or the separators between tokens.\n",
    "    tokenizer = nltk.RegexpTokenizer(r'\\w+')\n",
    "    tokens = tokenizer.tokenize(sentence) \n",
    "\n",
    "    # Remove stopwords\n",
    "    filtered_words = [w for w in tokens if len(w) > 2 if not w in stopwords.words('english')]\n",
    "\n",
    "    # Stemming the words (eg. Studies => Studi)\n",
    "    stemmer = PorterStemmer()\n",
    "    stem_words=[stemmer.stem(w) for w in filtered_words]\n",
    "\n",
    "    # Lemmatize (eg. Studies => Study)\n",
    "    lemmatizer = WordNetLemmatizer()\n",
    "    lemma_words=[lemmatizer.lemmatize(w) for w in stem_words]\n",
    "    return \" \".join(filtered_words)\n"
   ]
  },
  {
   "cell_type": "code",
   "execution_count": 25,
   "metadata": {
    "scrolled": true
   },
   "outputs": [
    {
     "data": {
      "text/html": [
       "<div>\n",
       "<style scoped>\n",
       "    .dataframe tbody tr th:only-of-type {\n",
       "        vertical-align: middle;\n",
       "    }\n",
       "\n",
       "    .dataframe tbody tr th {\n",
       "        vertical-align: top;\n",
       "    }\n",
       "\n",
       "    .dataframe thead th {\n",
       "        text-align: right;\n",
       "    }\n",
       "</style>\n",
       "<table border=\"1\" class=\"dataframe\">\n",
       "  <thead>\n",
       "    <tr style=\"text-align: right;\">\n",
       "      <th></th>\n",
       "      <th>title</th>\n",
       "      <th>genre</th>\n",
       "      <th>overview</th>\n",
       "      <th>clean_overview</th>\n",
       "    </tr>\n",
       "  </thead>\n",
       "  <tbody>\n",
       "    <tr>\n",
       "      <th>0</th>\n",
       "      <td>The Shawshank Redemption</td>\n",
       "      <td>Drama</td>\n",
       "      <td>Two imprisoned men bond over a number of years...</td>\n",
       "      <td>two imprisoned men bond number years finding s...</td>\n",
       "    </tr>\n",
       "    <tr>\n",
       "      <th>1</th>\n",
       "      <td>The Godfather</td>\n",
       "      <td>Crime, Drama</td>\n",
       "      <td>An organized crime dynasty's aging patriarch t...</td>\n",
       "      <td>organized crime dynasty aging patriarch transf...</td>\n",
       "    </tr>\n",
       "    <tr>\n",
       "      <th>2</th>\n",
       "      <td>The Dark Knight</td>\n",
       "      <td>Action, Crime, Drama</td>\n",
       "      <td>When the menace known as the Joker wreaks havo...</td>\n",
       "      <td>menace known joker wreaks havoc chaos people g...</td>\n",
       "    </tr>\n",
       "    <tr>\n",
       "      <th>3</th>\n",
       "      <td>The Godfather: Part II</td>\n",
       "      <td>Crime, Drama</td>\n",
       "      <td>The early life and career of Vito Corleone in ...</td>\n",
       "      <td>early life career vito corleone 1920s new york...</td>\n",
       "    </tr>\n",
       "    <tr>\n",
       "      <th>4</th>\n",
       "      <td>12 Angry Men</td>\n",
       "      <td>Crime, Drama</td>\n",
       "      <td>A jury holdout attempts to prevent a miscarria...</td>\n",
       "      <td>jury holdout attempts prevent miscarriage just...</td>\n",
       "    </tr>\n",
       "  </tbody>\n",
       "</table>\n",
       "</div>"
      ],
      "text/plain": [
       "                      title                 genre  \\\n",
       "0  The Shawshank Redemption                 Drama   \n",
       "1             The Godfather          Crime, Drama   \n",
       "2           The Dark Knight  Action, Crime, Drama   \n",
       "3    The Godfather: Part II          Crime, Drama   \n",
       "4              12 Angry Men          Crime, Drama   \n",
       "\n",
       "                                            overview  \\\n",
       "0  Two imprisoned men bond over a number of years...   \n",
       "1  An organized crime dynasty's aging patriarch t...   \n",
       "2  When the menace known as the Joker wreaks havo...   \n",
       "3  The early life and career of Vito Corleone in ...   \n",
       "4  A jury holdout attempts to prevent a miscarria...   \n",
       "\n",
       "                                      clean_overview  \n",
       "0  two imprisoned men bond number years finding s...  \n",
       "1  organized crime dynasty aging patriarch transf...  \n",
       "2  menace known joker wreaks havoc chaos people g...  \n",
       "3  early life career vito corleone 1920s new york...  \n",
       "4  jury holdout attempts prevent miscarriage just...  "
      ]
     },
     "execution_count": 25,
     "metadata": {},
     "output_type": "execute_result"
    }
   ],
   "source": [
    "df['clean_overview'] = df['overview'].apply(text_preprocess)\n",
    "df.head()"
   ]
  },
  {
   "cell_type": "code",
   "execution_count": 26,
   "metadata": {},
   "outputs": [
    {
     "data": {
      "text/plain": [
       "'Two imprisoned men bond over a number of years, finding solace and eventual redemption through acts of common decency.'"
      ]
     },
     "execution_count": 26,
     "metadata": {},
     "output_type": "execute_result"
    }
   ],
   "source": [
    "df.overview[0]"
   ]
  },
  {
   "cell_type": "code",
   "execution_count": 27,
   "metadata": {},
   "outputs": [
    {
     "data": {
      "text/plain": [
       "'two imprisoned men bond number years finding solace eventual redemption acts common decency'"
      ]
     },
     "execution_count": 27,
     "metadata": {},
     "output_type": "execute_result"
    }
   ],
   "source": [
    "df.clean_overview[0]"
   ]
  },
  {
   "cell_type": "code",
   "execution_count": null,
   "metadata": {},
   "outputs": [],
   "source": []
  },
  {
   "cell_type": "markdown",
   "metadata": {},
   "source": [
    "### Clean genres"
   ]
  },
  {
   "cell_type": "code",
   "execution_count": 28,
   "metadata": {
    "scrolled": true
   },
   "outputs": [
    {
     "data": {
      "text/html": [
       "<div>\n",
       "<style scoped>\n",
       "    .dataframe tbody tr th:only-of-type {\n",
       "        vertical-align: middle;\n",
       "    }\n",
       "\n",
       "    .dataframe tbody tr th {\n",
       "        vertical-align: top;\n",
       "    }\n",
       "\n",
       "    .dataframe thead th {\n",
       "        text-align: right;\n",
       "    }\n",
       "</style>\n",
       "<table border=\"1\" class=\"dataframe\">\n",
       "  <thead>\n",
       "    <tr style=\"text-align: right;\">\n",
       "      <th></th>\n",
       "      <th>title</th>\n",
       "      <th>genre</th>\n",
       "      <th>overview</th>\n",
       "      <th>clean_overview</th>\n",
       "      <th>genre_split</th>\n",
       "      <th>genre_1</th>\n",
       "    </tr>\n",
       "  </thead>\n",
       "  <tbody>\n",
       "    <tr>\n",
       "      <th>0</th>\n",
       "      <td>The Shawshank Redemption</td>\n",
       "      <td>Drama</td>\n",
       "      <td>Two imprisoned men bond over a number of years...</td>\n",
       "      <td>two imprisoned men bond number years finding s...</td>\n",
       "      <td>[Drama]</td>\n",
       "      <td>Drama</td>\n",
       "    </tr>\n",
       "    <tr>\n",
       "      <th>1</th>\n",
       "      <td>The Godfather</td>\n",
       "      <td>Crime, Drama</td>\n",
       "      <td>An organized crime dynasty's aging patriarch t...</td>\n",
       "      <td>organized crime dynasty aging patriarch transf...</td>\n",
       "      <td>[Crime,  Drama]</td>\n",
       "      <td>Crime</td>\n",
       "    </tr>\n",
       "    <tr>\n",
       "      <th>2</th>\n",
       "      <td>The Dark Knight</td>\n",
       "      <td>Action, Crime, Drama</td>\n",
       "      <td>When the menace known as the Joker wreaks havo...</td>\n",
       "      <td>menace known joker wreaks havoc chaos people g...</td>\n",
       "      <td>[Action,  Crime,  Drama]</td>\n",
       "      <td>Action</td>\n",
       "    </tr>\n",
       "    <tr>\n",
       "      <th>3</th>\n",
       "      <td>The Godfather: Part II</td>\n",
       "      <td>Crime, Drama</td>\n",
       "      <td>The early life and career of Vito Corleone in ...</td>\n",
       "      <td>early life career vito corleone 1920s new york...</td>\n",
       "      <td>[Crime,  Drama]</td>\n",
       "      <td>Crime</td>\n",
       "    </tr>\n",
       "    <tr>\n",
       "      <th>4</th>\n",
       "      <td>12 Angry Men</td>\n",
       "      <td>Crime, Drama</td>\n",
       "      <td>A jury holdout attempts to prevent a miscarria...</td>\n",
       "      <td>jury holdout attempts prevent miscarriage just...</td>\n",
       "      <td>[Crime,  Drama]</td>\n",
       "      <td>Crime</td>\n",
       "    </tr>\n",
       "  </tbody>\n",
       "</table>\n",
       "</div>"
      ],
      "text/plain": [
       "                      title                 genre  \\\n",
       "0  The Shawshank Redemption                 Drama   \n",
       "1             The Godfather          Crime, Drama   \n",
       "2           The Dark Knight  Action, Crime, Drama   \n",
       "3    The Godfather: Part II          Crime, Drama   \n",
       "4              12 Angry Men          Crime, Drama   \n",
       "\n",
       "                                            overview  \\\n",
       "0  Two imprisoned men bond over a number of years...   \n",
       "1  An organized crime dynasty's aging patriarch t...   \n",
       "2  When the menace known as the Joker wreaks havo...   \n",
       "3  The early life and career of Vito Corleone in ...   \n",
       "4  A jury holdout attempts to prevent a miscarria...   \n",
       "\n",
       "                                      clean_overview  \\\n",
       "0  two imprisoned men bond number years finding s...   \n",
       "1  organized crime dynasty aging patriarch transf...   \n",
       "2  menace known joker wreaks havoc chaos people g...   \n",
       "3  early life career vito corleone 1920s new york...   \n",
       "4  jury holdout attempts prevent miscarriage just...   \n",
       "\n",
       "                genre_split genre_1  \n",
       "0                   [Drama]   Drama  \n",
       "1           [Crime,  Drama]   Crime  \n",
       "2  [Action,  Crime,  Drama]  Action  \n",
       "3           [Crime,  Drama]   Crime  \n",
       "4           [Crime,  Drama]   Crime  "
      ]
     },
     "execution_count": 28,
     "metadata": {},
     "output_type": "execute_result"
    }
   ],
   "source": [
    "df['genre'] = df['genre'].fillna(0)\n",
    "df['genre'] = df['genre'].astype(str)\n",
    "df = df[df['genre']!='0']\n",
    "df = df.assign(genre_split = df.genre.map(lambda x: x.split(\",\")))\n",
    "df = df.assign(genre_1 = df.genre.map(lambda x: x.split(\",\")[0]))\n",
    "df.head()"
   ]
  },
  {
   "cell_type": "code",
   "execution_count": 29,
   "metadata": {
    "scrolled": true
   },
   "outputs": [
    {
     "data": {
      "text/plain": [
       "array(['Drama', 'Crime', 'Action', 'Biography', 'Western', 'Comedy',\n",
       "       'Adventure', 'Animation', 'Horror', 'Mystery', 'Film-Noir',\n",
       "       'Fantasy', 'Family', 'Thriller'], dtype=object)"
      ]
     },
     "execution_count": 29,
     "metadata": {},
     "output_type": "execute_result"
    }
   ],
   "source": [
    "df.genre_1.unique()"
   ]
  },
  {
   "cell_type": "code",
   "execution_count": 30,
   "metadata": {},
   "outputs": [
    {
     "data": {
      "text/plain": [
       "<matplotlib.axes._subplots.AxesSubplot at 0x137e24550>"
      ]
     },
     "execution_count": 30,
     "metadata": {},
     "output_type": "execute_result"
    },
    {
     "data": {
      "image/png": "[encoded data removed]",
      "text/plain": [
       "<Figure size 432x288 with 1 Axes>"
      ]
     },
     "metadata": {
      "needs_background": "light"
     },
     "output_type": "display_data"
    }
   ],
   "source": [
    "df['genre_1'].value_counts().plot(kind='bar',rot=45)"
   ]
  },
  {
   "cell_type": "code",
   "execution_count": 31,
   "metadata": {
    "scrolled": true
   },
   "outputs": [
    {
     "data": {
      "text/html": [
       "<div>\n",
       "<style scoped>\n",
       "    .dataframe tbody tr th:only-of-type {\n",
       "        vertical-align: middle;\n",
       "    }\n",
       "\n",
       "    .dataframe tbody tr th {\n",
       "        vertical-align: top;\n",
       "    }\n",
       "\n",
       "    .dataframe thead th {\n",
       "        text-align: right;\n",
       "    }\n",
       "</style>\n",
       "<table border=\"1\" class=\"dataframe\">\n",
       "  <thead>\n",
       "    <tr style=\"text-align: right;\">\n",
       "      <th></th>\n",
       "      <th>words</th>\n",
       "      <th>freq</th>\n",
       "    </tr>\n",
       "  </thead>\n",
       "  <tbody>\n",
       "    <tr>\n",
       "      <th>0</th>\n",
       "      <td>young</td>\n",
       "      <td>132</td>\n",
       "    </tr>\n",
       "    <tr>\n",
       "      <th>1</th>\n",
       "      <td>man</td>\n",
       "      <td>119</td>\n",
       "    </tr>\n",
       "    <tr>\n",
       "      <th>2</th>\n",
       "      <td>life</td>\n",
       "      <td>111</td>\n",
       "    </tr>\n",
       "    <tr>\n",
       "      <th>3</th>\n",
       "      <td>two</td>\n",
       "      <td>104</td>\n",
       "    </tr>\n",
       "    <tr>\n",
       "      <th>4</th>\n",
       "      <td>world</td>\n",
       "      <td>85</td>\n",
       "    </tr>\n",
       "    <tr>\n",
       "      <th>5</th>\n",
       "      <td>new</td>\n",
       "      <td>73</td>\n",
       "    </tr>\n",
       "    <tr>\n",
       "      <th>6</th>\n",
       "      <td>family</td>\n",
       "      <td>66</td>\n",
       "    </tr>\n",
       "    <tr>\n",
       "      <th>7</th>\n",
       "      <td>war</td>\n",
       "      <td>66</td>\n",
       "    </tr>\n",
       "    <tr>\n",
       "      <th>8</th>\n",
       "      <td>woman</td>\n",
       "      <td>65</td>\n",
       "    </tr>\n",
       "    <tr>\n",
       "      <th>9</th>\n",
       "      <td>story</td>\n",
       "      <td>63</td>\n",
       "    </tr>\n",
       "    <tr>\n",
       "      <th>10</th>\n",
       "      <td>love</td>\n",
       "      <td>61</td>\n",
       "    </tr>\n",
       "    <tr>\n",
       "      <th>11</th>\n",
       "      <td>one</td>\n",
       "      <td>60</td>\n",
       "    </tr>\n",
       "    <tr>\n",
       "      <th>12</th>\n",
       "      <td>find</td>\n",
       "      <td>54</td>\n",
       "    </tr>\n",
       "    <tr>\n",
       "      <th>13</th>\n",
       "      <td>old</td>\n",
       "      <td>54</td>\n",
       "    </tr>\n",
       "    <tr>\n",
       "      <th>14</th>\n",
       "      <td>must</td>\n",
       "      <td>50</td>\n",
       "    </tr>\n",
       "    <tr>\n",
       "      <th>15</th>\n",
       "      <td>finds</td>\n",
       "      <td>47</td>\n",
       "    </tr>\n",
       "    <tr>\n",
       "      <th>16</th>\n",
       "      <td>boy</td>\n",
       "      <td>46</td>\n",
       "    </tr>\n",
       "    <tr>\n",
       "      <th>17</th>\n",
       "      <td>help</td>\n",
       "      <td>45</td>\n",
       "    </tr>\n",
       "    <tr>\n",
       "      <th>18</th>\n",
       "      <td>father</td>\n",
       "      <td>45</td>\n",
       "    </tr>\n",
       "    <tr>\n",
       "      <th>19</th>\n",
       "      <td>wife</td>\n",
       "      <td>44</td>\n",
       "    </tr>\n",
       "    <tr>\n",
       "      <th>20</th>\n",
       "      <td>becomes</td>\n",
       "      <td>44</td>\n",
       "    </tr>\n",
       "    <tr>\n",
       "      <th>21</th>\n",
       "      <td>girl</td>\n",
       "      <td>42</td>\n",
       "    </tr>\n",
       "    <tr>\n",
       "      <th>22</th>\n",
       "      <td>american</td>\n",
       "      <td>40</td>\n",
       "    </tr>\n",
       "    <tr>\n",
       "      <th>23</th>\n",
       "      <td>years</td>\n",
       "      <td>39</td>\n",
       "    </tr>\n",
       "    <tr>\n",
       "      <th>24</th>\n",
       "      <td>son</td>\n",
       "      <td>39</td>\n",
       "    </tr>\n",
       "  </tbody>\n",
       "</table>\n",
       "</div>"
      ],
      "text/plain": [
       "       words  freq\n",
       "0      young   132\n",
       "1        man   119\n",
       "2       life   111\n",
       "3        two   104\n",
       "4      world    85\n",
       "5        new    73\n",
       "6     family    66\n",
       "7        war    66\n",
       "8      woman    65\n",
       "9      story    63\n",
       "10      love    61\n",
       "11       one    60\n",
       "12      find    54\n",
       "13       old    54\n",
       "14      must    50\n",
       "15     finds    47\n",
       "16       boy    46\n",
       "17      help    45\n",
       "18    father    45\n",
       "19      wife    44\n",
       "20   becomes    44\n",
       "21      girl    42\n",
       "22  american    40\n",
       "23     years    39\n",
       "24       son    39"
      ]
     },
     "execution_count": 31,
     "metadata": {},
     "output_type": "execute_result"
    }
   ],
   "source": [
    "## List the top frequest keywords in show overview\n",
    "def get_top_n_words(corpus, n=None):\n",
    "    vec = CountVectorizer().fit(corpus)\n",
    "    bag_of_words = vec.transform(corpus)\n",
    "    sum_words = bag_of_words.sum(axis=0) \n",
    "    words_freq = [(word, sum_words[0, idx]) for word, idx in vec.vocabulary_.items()]\n",
    "    words_freq =sorted(words_freq, key = lambda x: x[1], reverse=True)\n",
    "    return words_freq[:n]\n",
    "\n",
    "## Get top 25 Frequent keywords\n",
    "wordcount_list = df['clean_overview'].tolist()\n",
    "freq_keywords = get_top_n_words(wordcount_list,25)\n",
    "\n",
    "df_wordcounts = pd.DataFrame(freq_keywords, columns=['words','freq'])\n",
    "df_wordcounts"
   ]
  },
  {
   "cell_type": "code",
   "execution_count": 32,
   "metadata": {},
   "outputs": [
    {
     "data": {
      "image/png": "[encoded data removed]",
      "text/plain": [
       "<Figure size 720x576 with 1 Axes>"
      ]
     },
     "metadata": {},
     "output_type": "display_data"
    }
   ],
   "source": [
    "# wordcloud\n",
    "wordcloud = WordCloud(width = 300, \n",
    "                      height = 300,\n",
    "                      background_color='white', \n",
    "                      max_font_size=50,\n",
    "                      max_words=150\n",
    "                     )\n",
    "\n",
    "wordcloud = wordcloud.generate_from_frequencies(df_wordcounts.set_index('words').freq)\n",
    "\n",
    "# plot words\n",
    "plt.figure(figsize=(10,8),facecolor = 'white', edgecolor='blue')\n",
    "plt.imshow(wordcloud, interpolation=\"bilinear\")\n",
    "plt.axis(\"off\")\n",
    "# plt.tight_layout(pad=0)\n",
    "# store to file\n",
    "# plt.savefig(\"cloud.png\", format=\"png\")\n",
    "plt.show()"
   ]
  },
  {
   "cell_type": "code",
   "execution_count": null,
   "metadata": {},
   "outputs": [],
   "source": []
  },
  {
   "cell_type": "markdown",
   "metadata": {},
   "source": [
    "### Building the Model"
   ]
  },
  {
   "cell_type": "code",
   "execution_count": 33,
   "metadata": {},
   "outputs": [],
   "source": [
    "corpus = df.clean_overview.to_list()"
   ]
  },
  {
   "cell_type": "code",
   "execution_count": 34,
   "metadata": {},
   "outputs": [
    {
     "data": {
      "text/plain": [
       "'two imprisoned men bond number years finding solace eventual redemption acts common decency'"
      ]
     },
     "execution_count": 34,
     "metadata": {},
     "output_type": "execute_result"
    }
   ],
   "source": [
    "corpus[0]"
   ]
  },
  {
   "cell_type": "code",
   "execution_count": 35,
   "metadata": {},
   "outputs": [],
   "source": [
    "# Creating the Bag of Words model\n",
    "cv = CountVectorizer(max_features=10000, ngram_range=(1,2))\n",
    "X = cv.fit_transform(corpus).toarray()"
   ]
  },
  {
   "cell_type": "code",
   "execution_count": 36,
   "metadata": {},
   "outputs": [],
   "source": [
    "y = df['genre_1'].values"
   ]
  },
  {
   "cell_type": "code",
   "execution_count": 37,
   "metadata": {},
   "outputs": [
    {
     "name": "stdout",
     "output_type": "stream",
     "text": [
      "X_train size: (800, 10000), X_test size: (200, 10000)\n"
     ]
    }
   ],
   "source": [
    "X_train, X_test, y_train, y_test = train_test_split(X, y, test_size=0.20, random_state=0)\n",
    "print('X_train size: {}, X_test size: {}'.format(X_train.shape, X_test.shape))"
   ]
  },
  {
   "cell_type": "code",
   "execution_count": null,
   "metadata": {},
   "outputs": [],
   "source": []
  },
  {
   "cell_type": "code",
   "execution_count": 38,
   "metadata": {},
   "outputs": [
    {
     "data": {
      "text/plain": [
       "MultinomialNB()"
      ]
     },
     "execution_count": 38,
     "metadata": {},
     "output_type": "execute_result"
    }
   ],
   "source": [
    "# Fitting Naive Bayes to the Training set\n",
    "nb_classifier = MultinomialNB()\n",
    "nb_classifier.fit(X_train, y_train)"
   ]
  },
  {
   "cell_type": "code",
   "execution_count": 39,
   "metadata": {},
   "outputs": [],
   "source": [
    "# Predicting the Test set results\n",
    "nb_y_pred = nb_classifier.predict(X_test)"
   ]
  },
  {
   "cell_type": "code",
   "execution_count": 40,
   "metadata": {},
   "outputs": [
    {
     "name": "stdout",
     "output_type": "stream",
     "text": [
      "---- Score ----\n",
      "Accuracy score is: 39.5%\n"
     ]
    }
   ],
   "source": [
    "# Calculating Accuracy\n",
    "from sklearn.metrics import accuracy_score\n",
    "score1 = accuracy_score(y_test, nb_y_pred)\n",
    "print(\"---- Score ----\")\n",
    "print(\"Accuracy score is: {}%\".format(round(score1*100,2)))"
   ]
  },
  {
   "cell_type": "code",
   "execution_count": 41,
   "metadata": {},
   "outputs": [
    {
     "data": {
      "text/html": [
       "<div>\n",
       "<style scoped>\n",
       "    .dataframe tbody tr th:only-of-type {\n",
       "        vertical-align: middle;\n",
       "    }\n",
       "\n",
       "    .dataframe tbody tr th {\n",
       "        vertical-align: top;\n",
       "    }\n",
       "\n",
       "    .dataframe thead th {\n",
       "        text-align: right;\n",
       "    }\n",
       "</style>\n",
       "<table border=\"1\" class=\"dataframe\">\n",
       "  <thead>\n",
       "    <tr style=\"text-align: right;\">\n",
       "      <th></th>\n",
       "      <th>actuals</th>\n",
       "      <th>preds</th>\n",
       "    </tr>\n",
       "  </thead>\n",
       "  <tbody>\n",
       "    <tr>\n",
       "      <th>0</th>\n",
       "      <td>Drama</td>\n",
       "      <td>Comedy</td>\n",
       "    </tr>\n",
       "    <tr>\n",
       "      <th>1</th>\n",
       "      <td>Drama</td>\n",
       "      <td>Drama</td>\n",
       "    </tr>\n",
       "    <tr>\n",
       "      <th>2</th>\n",
       "      <td>Biography</td>\n",
       "      <td>Drama</td>\n",
       "    </tr>\n",
       "    <tr>\n",
       "      <th>3</th>\n",
       "      <td>Adventure</td>\n",
       "      <td>Drama</td>\n",
       "    </tr>\n",
       "    <tr>\n",
       "      <th>4</th>\n",
       "      <td>Animation</td>\n",
       "      <td>Drama</td>\n",
       "    </tr>\n",
       "    <tr>\n",
       "      <th>...</th>\n",
       "      <td>...</td>\n",
       "      <td>...</td>\n",
       "    </tr>\n",
       "    <tr>\n",
       "      <th>195</th>\n",
       "      <td>Comedy</td>\n",
       "      <td>Comedy</td>\n",
       "    </tr>\n",
       "    <tr>\n",
       "      <th>196</th>\n",
       "      <td>Action</td>\n",
       "      <td>Action</td>\n",
       "    </tr>\n",
       "    <tr>\n",
       "      <th>197</th>\n",
       "      <td>Biography</td>\n",
       "      <td>Comedy</td>\n",
       "    </tr>\n",
       "    <tr>\n",
       "      <th>198</th>\n",
       "      <td>Crime</td>\n",
       "      <td>Crime</td>\n",
       "    </tr>\n",
       "    <tr>\n",
       "      <th>199</th>\n",
       "      <td>Drama</td>\n",
       "      <td>Action</td>\n",
       "    </tr>\n",
       "  </tbody>\n",
       "</table>\n",
       "<p>200 rows × 2 columns</p>\n",
       "</div>"
      ],
      "text/plain": [
       "       actuals   preds\n",
       "0        Drama  Comedy\n",
       "1        Drama   Drama\n",
       "2    Biography   Drama\n",
       "3    Adventure   Drama\n",
       "4    Animation   Drama\n",
       "..         ...     ...\n",
       "195     Comedy  Comedy\n",
       "196     Action  Action\n",
       "197  Biography  Comedy\n",
       "198      Crime   Crime\n",
       "199      Drama  Action\n",
       "\n",
       "[200 rows x 2 columns]"
      ]
     },
     "execution_count": 41,
     "metadata": {},
     "output_type": "execute_result"
    }
   ],
   "source": [
    "test_df = pd.DataFrame({'actuals':y_test,\"preds\":nb_y_pred})\n",
    "test_df"
   ]
  },
  {
   "cell_type": "code",
   "execution_count": null,
   "metadata": {},
   "outputs": [],
   "source": []
  },
  {
   "cell_type": "code",
   "execution_count": 42,
   "metadata": {},
   "outputs": [
    {
     "data": {
      "text/plain": [
       "array(['Drama', 'Crime', 'Action', 'Biography', 'Western', 'Comedy',\n",
       "       'Adventure', 'Animation', 'Horror', 'Mystery', 'Film-Noir',\n",
       "       'Fantasy', 'Family', 'Thriller'], dtype=object)"
      ]
     },
     "execution_count": 42,
     "metadata": {},
     "output_type": "execute_result"
    }
   ],
   "source": [
    "df.genre_1.unique()"
   ]
  },
  {
   "cell_type": "code",
   "execution_count": 43,
   "metadata": {},
   "outputs": [],
   "source": [
    "# Confusion Matrix\n",
    "nb_cm = confusion_matrix(y_test, nb_y_pred)"
   ]
  },
  {
   "cell_type": "code",
   "execution_count": 44,
   "metadata": {},
   "outputs": [
    {
     "data": {
      "text/plain": [
       "array([[13,  3,  1,  1,  1,  2, 12,  0,  0,  0,  0,  0],\n",
       "       [ 1,  1,  2,  1,  1,  2,  6,  0,  0,  0,  0,  0],\n",
       "       [ 3,  0,  4,  0,  3,  0,  9,  0,  0,  0,  0,  0],\n",
       "       [ 1,  2,  1,  4,  2,  1,  6,  0,  0,  0,  0,  0],\n",
       "       [ 2,  0,  2,  0,  8,  2, 13,  0,  0,  0,  0,  0],\n",
       "       [ 3,  0,  1,  0,  4,  7,  6,  0,  0,  0,  0,  0],\n",
       "       [ 7,  0,  2,  1,  5,  4, 42,  0,  0,  0,  0,  0],\n",
       "       [ 0,  0,  0,  0,  0,  0,  2,  0,  0,  0,  0,  0],\n",
       "       [ 0,  0,  0,  0,  0,  0,  1,  0,  0,  0,  0,  0],\n",
       "       [ 1,  0,  0,  0,  0,  0,  0,  0,  0,  0,  0,  0],\n",
       "       [ 0,  0,  0,  1,  1,  1,  0,  0,  0,  0,  0,  0],\n",
       "       [ 1,  0,  0,  0,  0,  0,  0,  0,  0,  0,  0,  0]])"
      ]
     },
     "execution_count": 44,
     "metadata": {},
     "output_type": "execute_result"
    }
   ],
   "source": [
    "nb_cm"
   ]
  },
  {
   "cell_type": "code",
   "execution_count": 45,
   "metadata": {},
   "outputs": [
    {
     "data": {
      "image/png": "[encoded data removed]",
      "text/plain": [
       "<Figure size 1080x864 with 2 Axes>"
      ]
     },
     "metadata": {
      "needs_background": "light"
     },
     "output_type": "display_data"
    }
   ],
   "source": [
    "# Plot the confusion matrix\n",
    "plt.figure(figsize=(15,12))\n",
    "axis_labels = ['Drama', 'Crime', 'Action', 'Biography', 'Western', 'Comedy',\n",
    "               'Adventure', 'Animation', 'Horror', 'Mystery', 'Film-Noir',\n",
    "               'Fantasy', 'Family', 'Thriller']\n",
    "sns.heatmap(data=nb_cm, annot=True, cmap=\"Blues\", xticklabels=axis_labels, yticklabels=axis_labels)\n",
    "plt.xlabel('Predicted values')\n",
    "plt.ylabel('Actual values')\n",
    "plt.title('Confusion Matrix for Multinomial Naive Bayes Algorithm')\n",
    "plt.show()"
   ]
  },
  {
   "cell_type": "code",
   "execution_count": 46,
   "metadata": {},
   "outputs": [
    {
     "name": "stdout",
     "output_type": "stream",
     "text": [
      "Accuracy score for alpha=0.1 is: 19.5%\n",
      "Accuracy score for alpha=0.2 is: 28.5%\n",
      "Accuracy score for alpha=0.3 is: 33.5%\n",
      "Accuracy score for alpha=0.4 is: 36.5%\n",
      "Accuracy score for alpha=0.5 is: 36.5%\n",
      "Accuracy score for alpha=0.6 is: 37.0%\n",
      "Accuracy score for alpha=0.7 is: 37.5%\n",
      "Accuracy score for alpha=0.8 is: 37.5%\n",
      "Accuracy score for alpha=0.9 is: 37.5%\n",
      "Accuracy score for alpha=1.0 is: 39.5%\n",
      "--------------------------------------------\n",
      "The best accuracy is 39.5% with alpha value as 1.0\n"
     ]
    }
   ],
   "source": [
    "# Hyperparameter tuning the Naive Bayes Classifier\n",
    "best_accuracy = 0.0\n",
    "alpha_val = 0.0\n",
    "for i in np.arange(0.1,1.1,0.1):\n",
    "  temp_classifier = MultinomialNB(alpha=i)\n",
    "  temp_classifier.fit(X_train, y_train)\n",
    "  temp_y_pred = temp_classifier.predict(X_test)\n",
    "  score = accuracy_score(y_test, temp_y_pred)\n",
    "  print(\"Accuracy score for alpha={} is: {}%\".format(round(i,1), round(score*100,2)))\n",
    "  if score>best_accuracy:\n",
    "    best_accuracy = score\n",
    "    alpha_val = i\n",
    "print('--------------------------------------------')\n",
    "print('The best accuracy is {}% with alpha value as {}'.format(round(best_accuracy*100, 2), round(alpha_val,1)))"
   ]
  },
  {
   "cell_type": "code",
   "execution_count": 47,
   "metadata": {},
   "outputs": [
    {
     "data": {
      "text/plain": [
       "MultinomialNB()"
      ]
     },
     "execution_count": 47,
     "metadata": {},
     "output_type": "execute_result"
    }
   ],
   "source": [
    "classifier = MultinomialNB(alpha = 1.0)\n",
    "classifier.fit(X_train, y_train)"
   ]
  },
  {
   "cell_type": "code",
   "execution_count": null,
   "metadata": {
    "scrolled": true
   },
   "outputs": [],
   "source": []
  },
  {
   "cell_type": "code",
   "execution_count": 48,
   "metadata": {
    "scrolled": true
   },
   "outputs": [],
   "source": [
    "cv = CountVectorizer(max_features=10000, ngram_range=(1,2))\n",
    "pred_test = cv.fit_transform(df.clean_overview).toarray()"
   ]
  },
  {
   "cell_type": "code",
   "execution_count": 49,
   "metadata": {},
   "outputs": [],
   "source": [
    "nb_predictions = classifier.predict(pred_test)"
   ]
  },
  {
   "cell_type": "code",
   "execution_count": 50,
   "metadata": {},
   "outputs": [
    {
     "data": {
      "text/html": [
       "<div>\n",
       "<style scoped>\n",
       "    .dataframe tbody tr th:only-of-type {\n",
       "        vertical-align: middle;\n",
       "    }\n",
       "\n",
       "    .dataframe tbody tr th {\n",
       "        vertical-align: top;\n",
       "    }\n",
       "\n",
       "    .dataframe thead th {\n",
       "        text-align: right;\n",
       "    }\n",
       "</style>\n",
       "<table border=\"1\" class=\"dataframe\">\n",
       "  <thead>\n",
       "    <tr style=\"text-align: right;\">\n",
       "      <th></th>\n",
       "      <th>title</th>\n",
       "      <th>genre</th>\n",
       "      <th>overview</th>\n",
       "      <th>clean_overview</th>\n",
       "      <th>genre_split</th>\n",
       "      <th>genre_1</th>\n",
       "      <th>nb_preds</th>\n",
       "    </tr>\n",
       "  </thead>\n",
       "  <tbody>\n",
       "    <tr>\n",
       "      <th>0</th>\n",
       "      <td>The Shawshank Redemption</td>\n",
       "      <td>Drama</td>\n",
       "      <td>Two imprisoned men bond over a number of years...</td>\n",
       "      <td>two imprisoned men bond number years finding s...</td>\n",
       "      <td>[Drama]</td>\n",
       "      <td>Drama</td>\n",
       "      <td>Drama</td>\n",
       "    </tr>\n",
       "    <tr>\n",
       "      <th>1</th>\n",
       "      <td>The Godfather</td>\n",
       "      <td>Crime, Drama</td>\n",
       "      <td>An organized crime dynasty's aging patriarch t...</td>\n",
       "      <td>organized crime dynasty aging patriarch transf...</td>\n",
       "      <td>[Crime,  Drama]</td>\n",
       "      <td>Crime</td>\n",
       "      <td>Crime</td>\n",
       "    </tr>\n",
       "    <tr>\n",
       "      <th>2</th>\n",
       "      <td>The Dark Knight</td>\n",
       "      <td>Action, Crime, Drama</td>\n",
       "      <td>When the menace known as the Joker wreaks havo...</td>\n",
       "      <td>menace known joker wreaks havoc chaos people g...</td>\n",
       "      <td>[Action,  Crime,  Drama]</td>\n",
       "      <td>Action</td>\n",
       "      <td>Action</td>\n",
       "    </tr>\n",
       "    <tr>\n",
       "      <th>3</th>\n",
       "      <td>The Godfather: Part II</td>\n",
       "      <td>Crime, Drama</td>\n",
       "      <td>The early life and career of Vito Corleone in ...</td>\n",
       "      <td>early life career vito corleone 1920s new york...</td>\n",
       "      <td>[Crime,  Drama]</td>\n",
       "      <td>Crime</td>\n",
       "      <td>Crime</td>\n",
       "    </tr>\n",
       "    <tr>\n",
       "      <th>4</th>\n",
       "      <td>12 Angry Men</td>\n",
       "      <td>Crime, Drama</td>\n",
       "      <td>A jury holdout attempts to prevent a miscarria...</td>\n",
       "      <td>jury holdout attempts prevent miscarriage just...</td>\n",
       "      <td>[Crime,  Drama]</td>\n",
       "      <td>Crime</td>\n",
       "      <td>Crime</td>\n",
       "    </tr>\n",
       "    <tr>\n",
       "      <th>...</th>\n",
       "      <td>...</td>\n",
       "      <td>...</td>\n",
       "      <td>...</td>\n",
       "      <td>...</td>\n",
       "      <td>...</td>\n",
       "      <td>...</td>\n",
       "      <td>...</td>\n",
       "    </tr>\n",
       "    <tr>\n",
       "      <th>995</th>\n",
       "      <td>Breakfast at Tiffany's</td>\n",
       "      <td>Comedy, Drama, Romance</td>\n",
       "      <td>A young New York socialite becomes interested ...</td>\n",
       "      <td>young new york socialite becomes interested yo...</td>\n",
       "      <td>[Comedy,  Drama,  Romance]</td>\n",
       "      <td>Comedy</td>\n",
       "      <td>Comedy</td>\n",
       "    </tr>\n",
       "    <tr>\n",
       "      <th>996</th>\n",
       "      <td>Giant</td>\n",
       "      <td>Drama, Western</td>\n",
       "      <td>Sprawling epic covering the life of a Texas ca...</td>\n",
       "      <td>sprawling epic covering life texas cattle ranc...</td>\n",
       "      <td>[Drama,  Western]</td>\n",
       "      <td>Drama</td>\n",
       "      <td>Drama</td>\n",
       "    </tr>\n",
       "    <tr>\n",
       "      <th>997</th>\n",
       "      <td>From Here to Eternity</td>\n",
       "      <td>Drama, Romance, War</td>\n",
       "      <td>In Hawaii in 1941, a private is cruelly punish...</td>\n",
       "      <td>hawaii 1941 private cruelly punished boxing un...</td>\n",
       "      <td>[Drama,  Romance,  War]</td>\n",
       "      <td>Drama</td>\n",
       "      <td>Drama</td>\n",
       "    </tr>\n",
       "    <tr>\n",
       "      <th>998</th>\n",
       "      <td>Lifeboat</td>\n",
       "      <td>Drama, War</td>\n",
       "      <td>Several survivors of a torpedoed merchant ship...</td>\n",
       "      <td>several survivors torpedoed merchant ship worl...</td>\n",
       "      <td>[Drama,  War]</td>\n",
       "      <td>Drama</td>\n",
       "      <td>Drama</td>\n",
       "    </tr>\n",
       "    <tr>\n",
       "      <th>999</th>\n",
       "      <td>The 39 Steps</td>\n",
       "      <td>Crime, Mystery, Thriller</td>\n",
       "      <td>A man in London tries to help a counter-espion...</td>\n",
       "      <td>man london tries help counter espionage agent ...</td>\n",
       "      <td>[Crime,  Mystery,  Thriller]</td>\n",
       "      <td>Crime</td>\n",
       "      <td>Action</td>\n",
       "    </tr>\n",
       "  </tbody>\n",
       "</table>\n",
       "<p>1000 rows × 7 columns</p>\n",
       "</div>"
      ],
      "text/plain": [
       "                        title                     genre  \\\n",
       "0    The Shawshank Redemption                     Drama   \n",
       "1               The Godfather              Crime, Drama   \n",
       "2             The Dark Knight      Action, Crime, Drama   \n",
       "3      The Godfather: Part II              Crime, Drama   \n",
       "4                12 Angry Men              Crime, Drama   \n",
       "..                        ...                       ...   \n",
       "995    Breakfast at Tiffany's    Comedy, Drama, Romance   \n",
       "996                     Giant            Drama, Western   \n",
       "997     From Here to Eternity       Drama, Romance, War   \n",
       "998                  Lifeboat                Drama, War   \n",
       "999              The 39 Steps  Crime, Mystery, Thriller   \n",
       "\n",
       "                                              overview  \\\n",
       "0    Two imprisoned men bond over a number of years...   \n",
       "1    An organized crime dynasty's aging patriarch t...   \n",
       "2    When the menace known as the Joker wreaks havo...   \n",
       "3    The early life and career of Vito Corleone in ...   \n",
       "4    A jury holdout attempts to prevent a miscarria...   \n",
       "..                                                 ...   \n",
       "995  A young New York socialite becomes interested ...   \n",
       "996  Sprawling epic covering the life of a Texas ca...   \n",
       "997  In Hawaii in 1941, a private is cruelly punish...   \n",
       "998  Several survivors of a torpedoed merchant ship...   \n",
       "999  A man in London tries to help a counter-espion...   \n",
       "\n",
       "                                        clean_overview  \\\n",
       "0    two imprisoned men bond number years finding s...   \n",
       "1    organized crime dynasty aging patriarch transf...   \n",
       "2    menace known joker wreaks havoc chaos people g...   \n",
       "3    early life career vito corleone 1920s new york...   \n",
       "4    jury holdout attempts prevent miscarriage just...   \n",
       "..                                                 ...   \n",
       "995  young new york socialite becomes interested yo...   \n",
       "996  sprawling epic covering life texas cattle ranc...   \n",
       "997  hawaii 1941 private cruelly punished boxing un...   \n",
       "998  several survivors torpedoed merchant ship worl...   \n",
       "999  man london tries help counter espionage agent ...   \n",
       "\n",
       "                      genre_split genre_1 nb_preds  \n",
       "0                         [Drama]   Drama    Drama  \n",
       "1                 [Crime,  Drama]   Crime    Crime  \n",
       "2        [Action,  Crime,  Drama]  Action   Action  \n",
       "3                 [Crime,  Drama]   Crime    Crime  \n",
       "4                 [Crime,  Drama]   Crime    Crime  \n",
       "..                            ...     ...      ...  \n",
       "995    [Comedy,  Drama,  Romance]  Comedy   Comedy  \n",
       "996             [Drama,  Western]   Drama    Drama  \n",
       "997       [Drama,  Romance,  War]   Drama    Drama  \n",
       "998                 [Drama,  War]   Drama    Drama  \n",
       "999  [Crime,  Mystery,  Thriller]   Crime   Action  \n",
       "\n",
       "[1000 rows x 7 columns]"
      ]
     },
     "execution_count": 50,
     "metadata": {},
     "output_type": "execute_result"
    }
   ],
   "source": [
    "df = df.assign(nb_preds = nb_predictions)\n",
    "df"
   ]
  },
  {
   "cell_type": "code",
   "execution_count": null,
   "metadata": {},
   "outputs": [],
   "source": []
  },
  {
   "cell_type": "code",
   "execution_count": 51,
   "metadata": {},
   "outputs": [
    {
     "name": "stdout",
     "output_type": "stream",
     "text": [
      "\n",
      "Actual Genre: Drama\n",
      "\n",
      "Prediction: Drama\n"
     ]
    }
   ],
   "source": [
    "print('\\nActual Genre: {}'.format(df.genre_1[20]))\n",
    "print('\\nPrediction: {}'.format(df.genre_1[20]))"
   ]
  },
  {
   "cell_type": "code",
   "execution_count": 52,
   "metadata": {},
   "outputs": [
    {
     "name": "stdout",
     "output_type": "stream",
     "text": [
      "---- Score ----\n",
      "Accuracy score is: 87.1%\n"
     ]
    }
   ],
   "source": [
    "# Calculating Accuracy\n",
    "\n",
    "score1 = accuracy_score(df.genre_1, df.nb_preds)\n",
    "print(\"---- Score ----\")\n",
    "print(\"Accuracy score is: {}%\".format(round(score1*100,2)))"
   ]
  },
  {
   "cell_type": "code",
   "execution_count": null,
   "metadata": {},
   "outputs": [],
   "source": []
  },
  {
   "cell_type": "code",
   "execution_count": null,
   "metadata": {},
   "outputs": [],
   "source": []
  },
  {
   "cell_type": "code",
   "execution_count": null,
   "metadata": {},
   "outputs": [],
   "source": []
  },
  {
   "cell_type": "code",
   "execution_count": null,
   "metadata": {},
   "outputs": [],
   "source": []
  },
  {
   "cell_type": "code",
   "execution_count": null,
   "metadata": {},
   "outputs": [],
   "source": []
  },
  {
   "cell_type": "code",
   "execution_count": null,
   "metadata": {},
   "outputs": [],
   "source": []
  },
  {
   "cell_type": "code",
   "execution_count": null,
   "metadata": {},
   "outputs": [],
   "source": []
  },
  {
   "cell_type": "code",
   "execution_count": null,
   "metadata": {},
   "outputs": [],
   "source": []
  },
  {
   "cell_type": "code",
   "execution_count": null,
   "metadata": {},
   "outputs": [],
   "source": []
  },
  {
   "cell_type": "code",
   "execution_count": null,
   "metadata": {},
   "outputs": [],
   "source": []
  }
 ],
 "metadata": {
  "kernelspec": {
   "display_name": "Python 3",
   "language": "python",
   "name": "python3"
  },
  "language_info": {
   "codemirror_mode": {
    "name": "ipython",
    "version": 3
   },
   "file_extension": ".py",
   "mimetype": "text/x-python",
   "name": "python",
   "nbconvert_exporter": "python",
   "pygments_lexer": "ipython3",
   "version": "3.7.0"
  }
 },
 "nbformat": 4,
 "nbformat_minor": 2
}
