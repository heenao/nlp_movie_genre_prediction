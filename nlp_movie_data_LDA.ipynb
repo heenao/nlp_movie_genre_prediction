{
 "cells": [
  {
   "cell_type": "markdown",
   "metadata": {},
   "source": [
    "## Latent Dirichlet Allocation (LDA) for Topic Modeling\n",
    "\n",
    "LDA is used to extract topics from unstructured data. Particularly useful for finding reasonably accurate mixtures of topics within a given document set.\n",
    "\n",
    "It builds a topic per document model and words per topic model, modeled as Dirichlet distributions.\n",
    "\n",
    "In this notebook, we look at movie descriptions and try to look at topic representations. \n",
    "\n",
    "Tutorial references used in this notebook-\n",
    "\n",
    "https://towardsdatascience.com/topic-modeling-and-latent-dirichlet-allocation-in-python-9bf156893c24\n",
    "\n",
    "https://rstudio-pubs-static.s3.amazonaws.com/79360_850b2a69980c4488b1db95987a24867a.html\n",
    "\n",
    "https://www.linkedin.com/pulse/nlp-a-complete-guide-topic-modeling-latent-dirichlet-sahil-m\n",
    "\n",
    "https://medium.datadriveninvestor.com/trump-tweets-topic-modeling-using-latent-dirichlet-allocation-e4f93b90b6fe"
   ]
  },
  {
   "cell_type": "code",
   "execution_count": 7,
   "metadata": {},
   "outputs": [
    {
     "data": {
      "text/html": [
       "<style>.container { width:65% !important; }</style>"
      ],
      "text/plain": [
       "<IPython.core.display.HTML object>"
      ]
     },
     "metadata": {},
     "output_type": "display_data"
    }
   ],
   "source": [
    "from IPython.core.display import display, HTML\n",
    "display(HTML(\"<style>.container { width:65% !important; }</style>\"))"
   ]
  },
  {
   "cell_type": "code",
   "execution_count": 8,
   "metadata": {},
   "outputs": [],
   "source": [
    "# Imports\n",
    "import nltk\n",
    "\n",
    "import numpy as np\n",
    "import pandas as pd\n",
    "\n",
    "# Visualize\n",
    "import pyLDAvis\n",
    "import pyLDAvis.gensim\n",
    "\n",
    "# For Text pre-processing\n",
    "from nltk.stem.porter import *\n",
    "from nltk.corpus import stopwords\n",
    "from nltk.stem import PorterStemmer\n",
    "from nltk.tokenize import word_tokenize\n",
    "from nltk.stem import WordNetLemmatizer\n",
    "\n",
    "\n",
    "# Gensim\n",
    "import gensim\n",
    "from gensim import corpora, models\n",
    "from gensim.utils import simple_preprocess\n",
    "from gensim.parsing.preprocessing import STOPWORDS\n",
    "from gensim.models.coherencemodel import CoherenceModel\n"
   ]
  },
  {
   "cell_type": "code",
   "execution_count": 9,
   "metadata": {},
   "outputs": [
    {
     "name": "stderr",
     "output_type": "stream",
     "text": [
      "[nltk_data] Downloading package stopwords to\n",
      "[nltk_data]     /Users/heena.otia/nltk_data...\n",
      "[nltk_data]   Package stopwords is already up-to-date!\n"
     ]
    },
    {
     "data": {
      "text/plain": [
       "True"
      ]
     },
     "execution_count": 9,
     "metadata": {},
     "output_type": "execute_result"
    }
   ],
   "source": [
    "nltk.download('stopwords')"
   ]
  },
  {
   "cell_type": "code",
   "execution_count": 10,
   "metadata": {},
   "outputs": [
    {
     "name": "stderr",
     "output_type": "stream",
     "text": [
      "[nltk_data] Downloading package wordnet to\n",
      "[nltk_data]     /Users/heena.otia/nltk_data...\n",
      "[nltk_data]   Package wordnet is already up-to-date!\n"
     ]
    },
    {
     "data": {
      "text/plain": [
       "True"
      ]
     },
     "execution_count": 10,
     "metadata": {},
     "output_type": "execute_result"
    }
   ],
   "source": [
    "nltk.download('wordnet')"
   ]
  },
  {
   "cell_type": "code",
   "execution_count": 11,
   "metadata": {},
   "outputs": [
    {
     "data": {
      "text/html": [
       "<div>\n",
       "<style scoped>\n",
       "    .dataframe tbody tr th:only-of-type {\n",
       "        vertical-align: middle;\n",
       "    }\n",
       "\n",
       "    .dataframe tbody tr th {\n",
       "        vertical-align: top;\n",
       "    }\n",
       "\n",
       "    .dataframe thead th {\n",
       "        text-align: right;\n",
       "    }\n",
       "</style>\n",
       "<table border=\"1\" class=\"dataframe\">\n",
       "  <thead>\n",
       "    <tr style=\"text-align: right;\">\n",
       "      <th></th>\n",
       "      <th>Poster_Link</th>\n",
       "      <th>Series_Title</th>\n",
       "      <th>Released_Year</th>\n",
       "      <th>Certificate</th>\n",
       "      <th>Runtime</th>\n",
       "      <th>Genre</th>\n",
       "      <th>IMDB_Rating</th>\n",
       "      <th>Overview</th>\n",
       "      <th>Meta_score</th>\n",
       "      <th>Director</th>\n",
       "      <th>Star1</th>\n",
       "      <th>Star2</th>\n",
       "      <th>Star3</th>\n",
       "      <th>Star4</th>\n",
       "      <th>No_of_Votes</th>\n",
       "      <th>Gross</th>\n",
       "    </tr>\n",
       "  </thead>\n",
       "  <tbody>\n",
       "    <tr>\n",
       "      <th>0</th>\n",
       "      <td>https://m.media-amazon.com/images/M/MV5BMDFkYT...</td>\n",
       "      <td>The Shawshank Redemption</td>\n",
       "      <td>1994</td>\n",
       "      <td>A</td>\n",
       "      <td>142 min</td>\n",
       "      <td>Drama</td>\n",
       "      <td>9.3</td>\n",
       "      <td>Two imprisoned men bond over a number of years...</td>\n",
       "      <td>80.0</td>\n",
       "      <td>Frank Darabont</td>\n",
       "      <td>Tim Robbins</td>\n",
       "      <td>Morgan Freeman</td>\n",
       "      <td>Bob Gunton</td>\n",
       "      <td>William Sadler</td>\n",
       "      <td>2343110</td>\n",
       "      <td>28,341,469</td>\n",
       "    </tr>\n",
       "    <tr>\n",
       "      <th>1</th>\n",
       "      <td>https://m.media-amazon.com/images/M/MV5BM2MyNj...</td>\n",
       "      <td>The Godfather</td>\n",
       "      <td>1972</td>\n",
       "      <td>A</td>\n",
       "      <td>175 min</td>\n",
       "      <td>Crime, Drama</td>\n",
       "      <td>9.2</td>\n",
       "      <td>An organized crime dynasty's aging patriarch t...</td>\n",
       "      <td>100.0</td>\n",
       "      <td>Francis Ford Coppola</td>\n",
       "      <td>Marlon Brando</td>\n",
       "      <td>Al Pacino</td>\n",
       "      <td>James Caan</td>\n",
       "      <td>Diane Keaton</td>\n",
       "      <td>1620367</td>\n",
       "      <td>134,966,411</td>\n",
       "    </tr>\n",
       "    <tr>\n",
       "      <th>2</th>\n",
       "      <td>https://m.media-amazon.com/images/M/MV5BMTMxNT...</td>\n",
       "      <td>The Dark Knight</td>\n",
       "      <td>2008</td>\n",
       "      <td>UA</td>\n",
       "      <td>152 min</td>\n",
       "      <td>Action, Crime, Drama</td>\n",
       "      <td>9.0</td>\n",
       "      <td>When the menace known as the Joker wreaks havo...</td>\n",
       "      <td>84.0</td>\n",
       "      <td>Christopher Nolan</td>\n",
       "      <td>Christian Bale</td>\n",
       "      <td>Heath Ledger</td>\n",
       "      <td>Aaron Eckhart</td>\n",
       "      <td>Michael Caine</td>\n",
       "      <td>2303232</td>\n",
       "      <td>534,858,444</td>\n",
       "    </tr>\n",
       "    <tr>\n",
       "      <th>3</th>\n",
       "      <td>https://m.media-amazon.com/images/M/MV5BMWMwMG...</td>\n",
       "      <td>The Godfather: Part II</td>\n",
       "      <td>1974</td>\n",
       "      <td>A</td>\n",
       "      <td>202 min</td>\n",
       "      <td>Crime, Drama</td>\n",
       "      <td>9.0</td>\n",
       "      <td>The early life and career of Vito Corleone in ...</td>\n",
       "      <td>90.0</td>\n",
       "      <td>Francis Ford Coppola</td>\n",
       "      <td>Al Pacino</td>\n",
       "      <td>Robert De Niro</td>\n",
       "      <td>Robert Duvall</td>\n",
       "      <td>Diane Keaton</td>\n",
       "      <td>1129952</td>\n",
       "      <td>57,300,000</td>\n",
       "    </tr>\n",
       "    <tr>\n",
       "      <th>4</th>\n",
       "      <td>https://m.media-amazon.com/images/M/MV5BMWU4N2...</td>\n",
       "      <td>12 Angry Men</td>\n",
       "      <td>1957</td>\n",
       "      <td>U</td>\n",
       "      <td>96 min</td>\n",
       "      <td>Crime, Drama</td>\n",
       "      <td>9.0</td>\n",
       "      <td>A jury holdout attempts to prevent a miscarria...</td>\n",
       "      <td>96.0</td>\n",
       "      <td>Sidney Lumet</td>\n",
       "      <td>Henry Fonda</td>\n",
       "      <td>Lee J. Cobb</td>\n",
       "      <td>Martin Balsam</td>\n",
       "      <td>John Fiedler</td>\n",
       "      <td>689845</td>\n",
       "      <td>4,360,000</td>\n",
       "    </tr>\n",
       "  </tbody>\n",
       "</table>\n",
       "</div>"
      ],
      "text/plain": [
       "                                         Poster_Link  \\\n",
       "0  https://m.media-amazon.com/images/M/MV5BMDFkYT...   \n",
       "1  https://m.media-amazon.com/images/M/MV5BM2MyNj...   \n",
       "2  https://m.media-amazon.com/images/M/MV5BMTMxNT...   \n",
       "3  https://m.media-amazon.com/images/M/MV5BMWMwMG...   \n",
       "4  https://m.media-amazon.com/images/M/MV5BMWU4N2...   \n",
       "\n",
       "               Series_Title Released_Year Certificate  Runtime  \\\n",
       "0  The Shawshank Redemption          1994           A  142 min   \n",
       "1             The Godfather          1972           A  175 min   \n",
       "2           The Dark Knight          2008          UA  152 min   \n",
       "3    The Godfather: Part II          1974           A  202 min   \n",
       "4              12 Angry Men          1957           U   96 min   \n",
       "\n",
       "                  Genre  IMDB_Rating  \\\n",
       "0                 Drama          9.3   \n",
       "1          Crime, Drama          9.2   \n",
       "2  Action, Crime, Drama          9.0   \n",
       "3          Crime, Drama          9.0   \n",
       "4          Crime, Drama          9.0   \n",
       "\n",
       "                                            Overview  Meta_score  \\\n",
       "0  Two imprisoned men bond over a number of years...        80.0   \n",
       "1  An organized crime dynasty's aging patriarch t...       100.0   \n",
       "2  When the menace known as the Joker wreaks havo...        84.0   \n",
       "3  The early life and career of Vito Corleone in ...        90.0   \n",
       "4  A jury holdout attempts to prevent a miscarria...        96.0   \n",
       "\n",
       "               Director           Star1           Star2          Star3  \\\n",
       "0        Frank Darabont     Tim Robbins  Morgan Freeman     Bob Gunton   \n",
       "1  Francis Ford Coppola   Marlon Brando       Al Pacino     James Caan   \n",
       "2     Christopher Nolan  Christian Bale    Heath Ledger  Aaron Eckhart   \n",
       "3  Francis Ford Coppola       Al Pacino  Robert De Niro  Robert Duvall   \n",
       "4          Sidney Lumet     Henry Fonda     Lee J. Cobb  Martin Balsam   \n",
       "\n",
       "            Star4  No_of_Votes        Gross  \n",
       "0  William Sadler      2343110   28,341,469  \n",
       "1    Diane Keaton      1620367  134,966,411  \n",
       "2   Michael Caine      2303232  534,858,444  \n",
       "3    Diane Keaton      1129952   57,300,000  \n",
       "4    John Fiedler       689845    4,360,000  "
      ]
     },
     "execution_count": 11,
     "metadata": {},
     "output_type": "execute_result"
    }
   ],
   "source": [
    "## Read the movie genres dataset \n",
    "# https://www.kaggle.com/harshitshankhdhar/imdb-dataset-of-top-1000-movies-and-tv-shows\n",
    "df = pd.read_csv('movie_genres.csv',encoding = \"ISO-8859-1\", engine='python')\n",
    "df.head()"
   ]
  },
  {
   "cell_type": "code",
   "execution_count": 12,
   "metadata": {},
   "outputs": [
    {
     "data": {
      "text/plain": [
       "(1000, 16)"
      ]
     },
     "execution_count": 12,
     "metadata": {},
     "output_type": "execute_result"
    }
   ],
   "source": [
    "df.shape"
   ]
  },
  {
   "cell_type": "code",
   "execution_count": 13,
   "metadata": {},
   "outputs": [
    {
     "data": {
      "text/html": [
       "<div>\n",
       "<style scoped>\n",
       "    .dataframe tbody tr th:only-of-type {\n",
       "        vertical-align: middle;\n",
       "    }\n",
       "\n",
       "    .dataframe tbody tr th {\n",
       "        vertical-align: top;\n",
       "    }\n",
       "\n",
       "    .dataframe thead th {\n",
       "        text-align: right;\n",
       "    }\n",
       "</style>\n",
       "<table border=\"1\" class=\"dataframe\">\n",
       "  <thead>\n",
       "    <tr style=\"text-align: right;\">\n",
       "      <th></th>\n",
       "      <th>title</th>\n",
       "      <th>genre</th>\n",
       "      <th>overview</th>\n",
       "    </tr>\n",
       "  </thead>\n",
       "  <tbody>\n",
       "    <tr>\n",
       "      <th>0</th>\n",
       "      <td>The Shawshank Redemption</td>\n",
       "      <td>Drama</td>\n",
       "      <td>Two imprisoned men bond over a number of years...</td>\n",
       "    </tr>\n",
       "    <tr>\n",
       "      <th>1</th>\n",
       "      <td>The Godfather</td>\n",
       "      <td>Crime, Drama</td>\n",
       "      <td>An organized crime dynasty's aging patriarch t...</td>\n",
       "    </tr>\n",
       "    <tr>\n",
       "      <th>2</th>\n",
       "      <td>The Dark Knight</td>\n",
       "      <td>Action, Crime, Drama</td>\n",
       "      <td>When the menace known as the Joker wreaks havo...</td>\n",
       "    </tr>\n",
       "    <tr>\n",
       "      <th>3</th>\n",
       "      <td>The Godfather: Part II</td>\n",
       "      <td>Crime, Drama</td>\n",
       "      <td>The early life and career of Vito Corleone in ...</td>\n",
       "    </tr>\n",
       "    <tr>\n",
       "      <th>4</th>\n",
       "      <td>12 Angry Men</td>\n",
       "      <td>Crime, Drama</td>\n",
       "      <td>A jury holdout attempts to prevent a miscarria...</td>\n",
       "    </tr>\n",
       "  </tbody>\n",
       "</table>\n",
       "</div>"
      ],
      "text/plain": [
       "                      title                 genre  \\\n",
       "0  The Shawshank Redemption                 Drama   \n",
       "1             The Godfather          Crime, Drama   \n",
       "2           The Dark Knight  Action, Crime, Drama   \n",
       "3    The Godfather: Part II          Crime, Drama   \n",
       "4              12 Angry Men          Crime, Drama   \n",
       "\n",
       "                                            overview  \n",
       "0  Two imprisoned men bond over a number of years...  \n",
       "1  An organized crime dynasty's aging patriarch t...  \n",
       "2  When the menace known as the Joker wreaks havo...  \n",
       "3  The early life and career of Vito Corleone in ...  \n",
       "4  A jury holdout attempts to prevent a miscarria...  "
      ]
     },
     "execution_count": 13,
     "metadata": {},
     "output_type": "execute_result"
    }
   ],
   "source": [
    "df = df[['Series_Title','Genre','Overview']]\n",
    "df.columns = ['title','genre','overview']\n",
    "df.head()"
   ]
  },
  {
   "cell_type": "code",
   "execution_count": 14,
   "metadata": {},
   "outputs": [],
   "source": [
    "# nltk.download('omw-1.4')"
   ]
  },
  {
   "cell_type": "markdown",
   "metadata": {},
   "source": [
    "### Clean text overview"
   ]
  },
  {
   "cell_type": "code",
   "execution_count": 15,
   "metadata": {},
   "outputs": [],
   "source": [
    "## Clean the movie overview text\n",
    "def text_preprocess(sentence):\n",
    "    # convert text to lowercase\n",
    "    sentence=str(sentence)\n",
    "    sentence = sentence.lower()\n",
    "    \n",
    "    # A tokenizer that splits a string using a regular expression, which matches either the tokens or the separators between tokens.\n",
    "    tokenizer = nltk.RegexpTokenizer(r'\\w+')\n",
    "    tokens = tokenizer.tokenize(sentence) \n",
    "\n",
    "    # Remove stopwords\n",
    "    filtered_words = [w for w in tokens if len(w) > 2 if not w in stopwords.words('english')]\n",
    "\n",
    "    # Stemming the words (eg. Studies => Studi)\n",
    "    stemmer = PorterStemmer()\n",
    "    stem_words=[stemmer.stem(w) for w in filtered_words]\n",
    "\n",
    "    # Lemmatize (eg. Studies => Study)\n",
    "    lemmatizer = WordNetLemmatizer()\n",
    "    lemma_words=[lemmatizer.lemmatize(w) for w in stem_words]\n",
    "    return \" \".join(filtered_words)\n"
   ]
  },
  {
   "cell_type": "code",
   "execution_count": 16,
   "metadata": {
    "scrolled": true
   },
   "outputs": [
    {
     "data": {
      "text/html": [
       "<div>\n",
       "<style scoped>\n",
       "    .dataframe tbody tr th:only-of-type {\n",
       "        vertical-align: middle;\n",
       "    }\n",
       "\n",
       "    .dataframe tbody tr th {\n",
       "        vertical-align: top;\n",
       "    }\n",
       "\n",
       "    .dataframe thead th {\n",
       "        text-align: right;\n",
       "    }\n",
       "</style>\n",
       "<table border=\"1\" class=\"dataframe\">\n",
       "  <thead>\n",
       "    <tr style=\"text-align: right;\">\n",
       "      <th></th>\n",
       "      <th>title</th>\n",
       "      <th>genre</th>\n",
       "      <th>overview</th>\n",
       "      <th>clean_overview</th>\n",
       "    </tr>\n",
       "  </thead>\n",
       "  <tbody>\n",
       "    <tr>\n",
       "      <th>0</th>\n",
       "      <td>The Shawshank Redemption</td>\n",
       "      <td>Drama</td>\n",
       "      <td>Two imprisoned men bond over a number of years...</td>\n",
       "      <td>two imprisoned men bond number years finding s...</td>\n",
       "    </tr>\n",
       "    <tr>\n",
       "      <th>1</th>\n",
       "      <td>The Godfather</td>\n",
       "      <td>Crime, Drama</td>\n",
       "      <td>An organized crime dynasty's aging patriarch t...</td>\n",
       "      <td>organized crime dynasty aging patriarch transf...</td>\n",
       "    </tr>\n",
       "    <tr>\n",
       "      <th>2</th>\n",
       "      <td>The Dark Knight</td>\n",
       "      <td>Action, Crime, Drama</td>\n",
       "      <td>When the menace known as the Joker wreaks havo...</td>\n",
       "      <td>menace known joker wreaks havoc chaos people g...</td>\n",
       "    </tr>\n",
       "    <tr>\n",
       "      <th>3</th>\n",
       "      <td>The Godfather: Part II</td>\n",
       "      <td>Crime, Drama</td>\n",
       "      <td>The early life and career of Vito Corleone in ...</td>\n",
       "      <td>early life career vito corleone 1920s new york...</td>\n",
       "    </tr>\n",
       "    <tr>\n",
       "      <th>4</th>\n",
       "      <td>12 Angry Men</td>\n",
       "      <td>Crime, Drama</td>\n",
       "      <td>A jury holdout attempts to prevent a miscarria...</td>\n",
       "      <td>jury holdout attempts prevent miscarriage just...</td>\n",
       "    </tr>\n",
       "  </tbody>\n",
       "</table>\n",
       "</div>"
      ],
      "text/plain": [
       "                      title                 genre  \\\n",
       "0  The Shawshank Redemption                 Drama   \n",
       "1             The Godfather          Crime, Drama   \n",
       "2           The Dark Knight  Action, Crime, Drama   \n",
       "3    The Godfather: Part II          Crime, Drama   \n",
       "4              12 Angry Men          Crime, Drama   \n",
       "\n",
       "                                            overview  \\\n",
       "0  Two imprisoned men bond over a number of years...   \n",
       "1  An organized crime dynasty's aging patriarch t...   \n",
       "2  When the menace known as the Joker wreaks havo...   \n",
       "3  The early life and career of Vito Corleone in ...   \n",
       "4  A jury holdout attempts to prevent a miscarria...   \n",
       "\n",
       "                                      clean_overview  \n",
       "0  two imprisoned men bond number years finding s...  \n",
       "1  organized crime dynasty aging patriarch transf...  \n",
       "2  menace known joker wreaks havoc chaos people g...  \n",
       "3  early life career vito corleone 1920s new york...  \n",
       "4  jury holdout attempts prevent miscarriage just...  "
      ]
     },
     "execution_count": 16,
     "metadata": {},
     "output_type": "execute_result"
    }
   ],
   "source": [
    "df['clean_overview'] = df['overview'].apply(text_preprocess)\n",
    "df.head()"
   ]
  },
  {
   "cell_type": "code",
   "execution_count": 17,
   "metadata": {},
   "outputs": [
    {
     "data": {
      "text/plain": [
       "'Two imprisoned men bond over a number of years, finding solace and eventual redemption through acts of common decency.'"
      ]
     },
     "execution_count": 17,
     "metadata": {},
     "output_type": "execute_result"
    }
   ],
   "source": [
    "df.overview[0]"
   ]
  },
  {
   "cell_type": "code",
   "execution_count": 18,
   "metadata": {},
   "outputs": [
    {
     "data": {
      "text/plain": [
       "'two imprisoned men bond number years finding solace eventual redemption acts common decency'"
      ]
     },
     "execution_count": 18,
     "metadata": {},
     "output_type": "execute_result"
    }
   ],
   "source": [
    "df.clean_overview[0]"
   ]
  },
  {
   "cell_type": "code",
   "execution_count": null,
   "metadata": {},
   "outputs": [],
   "source": []
  },
  {
   "cell_type": "code",
   "execution_count": null,
   "metadata": {},
   "outputs": [],
   "source": []
  },
  {
   "cell_type": "code",
   "execution_count": 19,
   "metadata": {
    "scrolled": true
   },
   "outputs": [
    {
     "name": "stderr",
     "output_type": "stream",
     "text": [
      "/usr/local/lib/python3.7/site-packages/ipykernel_launcher.py:2: SettingWithCopyWarning: \n",
      "A value is trying to be set on a copy of a slice from a DataFrame.\n",
      "Try using .loc[row_indexer,col_indexer] = value instead\n",
      "\n",
      "See the caveats in the documentation: https://pandas.pydata.org/pandas-docs/stable/user_guide/indexing.html#returning-a-view-versus-a-copy\n",
      "  \n"
     ]
    },
    {
     "data": {
      "text/html": [
       "<div>\n",
       "<style scoped>\n",
       "    .dataframe tbody tr th:only-of-type {\n",
       "        vertical-align: middle;\n",
       "    }\n",
       "\n",
       "    .dataframe tbody tr th {\n",
       "        vertical-align: top;\n",
       "    }\n",
       "\n",
       "    .dataframe thead th {\n",
       "        text-align: right;\n",
       "    }\n",
       "</style>\n",
       "<table border=\"1\" class=\"dataframe\">\n",
       "  <thead>\n",
       "    <tr style=\"text-align: right;\">\n",
       "      <th></th>\n",
       "      <th>clean_overview</th>\n",
       "      <th>index</th>\n",
       "    </tr>\n",
       "  </thead>\n",
       "  <tbody>\n",
       "    <tr>\n",
       "      <th>0</th>\n",
       "      <td>two imprisoned men bond number years finding s...</td>\n",
       "      <td>0</td>\n",
       "    </tr>\n",
       "    <tr>\n",
       "      <th>1</th>\n",
       "      <td>organized crime dynasty aging patriarch transf...</td>\n",
       "      <td>1</td>\n",
       "    </tr>\n",
       "    <tr>\n",
       "      <th>2</th>\n",
       "      <td>menace known joker wreaks havoc chaos people g...</td>\n",
       "      <td>2</td>\n",
       "    </tr>\n",
       "    <tr>\n",
       "      <th>3</th>\n",
       "      <td>early life career vito corleone 1920s new york...</td>\n",
       "      <td>3</td>\n",
       "    </tr>\n",
       "    <tr>\n",
       "      <th>4</th>\n",
       "      <td>jury holdout attempts prevent miscarriage just...</td>\n",
       "      <td>4</td>\n",
       "    </tr>\n",
       "  </tbody>\n",
       "</table>\n",
       "</div>"
      ],
      "text/plain": [
       "                                      clean_overview  index\n",
       "0  two imprisoned men bond number years finding s...      0\n",
       "1  organized crime dynasty aging patriarch transf...      1\n",
       "2  menace known joker wreaks havoc chaos people g...      2\n",
       "3  early life career vito corleone 1920s new york...      3\n",
       "4  jury holdout attempts prevent miscarriage just...      4"
      ]
     },
     "execution_count": 19,
     "metadata": {},
     "output_type": "execute_result"
    }
   ],
   "source": [
    "data_text = df[['clean_overview']]\n",
    "data_text['index'] = data_text.index\n",
    "documents = data_text\n",
    "documents.head(5)"
   ]
  },
  {
   "cell_type": "code",
   "execution_count": 20,
   "metadata": {},
   "outputs": [
    {
     "data": {
      "text/html": [
       "<div>\n",
       "<style scoped>\n",
       "    .dataframe tbody tr th:only-of-type {\n",
       "        vertical-align: middle;\n",
       "    }\n",
       "\n",
       "    .dataframe tbody tr th {\n",
       "        vertical-align: top;\n",
       "    }\n",
       "\n",
       "    .dataframe thead th {\n",
       "        text-align: right;\n",
       "    }\n",
       "</style>\n",
       "<table border=\"1\" class=\"dataframe\">\n",
       "  <thead>\n",
       "    <tr style=\"text-align: right;\">\n",
       "      <th></th>\n",
       "      <th>title</th>\n",
       "      <th>genre</th>\n",
       "      <th>overview</th>\n",
       "      <th>clean_overview</th>\n",
       "      <th>clean_overview_list</th>\n",
       "    </tr>\n",
       "  </thead>\n",
       "  <tbody>\n",
       "    <tr>\n",
       "      <th>0</th>\n",
       "      <td>The Shawshank Redemption</td>\n",
       "      <td>Drama</td>\n",
       "      <td>Two imprisoned men bond over a number of years...</td>\n",
       "      <td>two imprisoned men bond number years finding s...</td>\n",
       "      <td>[two, imprisoned, men, bond, number, years, fi...</td>\n",
       "    </tr>\n",
       "    <tr>\n",
       "      <th>1</th>\n",
       "      <td>The Godfather</td>\n",
       "      <td>Crime, Drama</td>\n",
       "      <td>An organized crime dynasty's aging patriarch t...</td>\n",
       "      <td>organized crime dynasty aging patriarch transf...</td>\n",
       "      <td>[organized, crime, dynasty, aging, patriarch, ...</td>\n",
       "    </tr>\n",
       "    <tr>\n",
       "      <th>2</th>\n",
       "      <td>The Dark Knight</td>\n",
       "      <td>Action, Crime, Drama</td>\n",
       "      <td>When the menace known as the Joker wreaks havo...</td>\n",
       "      <td>menace known joker wreaks havoc chaos people g...</td>\n",
       "      <td>[menace, known, joker, wreaks, havoc, chaos, p...</td>\n",
       "    </tr>\n",
       "    <tr>\n",
       "      <th>3</th>\n",
       "      <td>The Godfather: Part II</td>\n",
       "      <td>Crime, Drama</td>\n",
       "      <td>The early life and career of Vito Corleone in ...</td>\n",
       "      <td>early life career vito corleone 1920s new york...</td>\n",
       "      <td>[early, life, career, vito, corleone, 1920s, n...</td>\n",
       "    </tr>\n",
       "    <tr>\n",
       "      <th>4</th>\n",
       "      <td>12 Angry Men</td>\n",
       "      <td>Crime, Drama</td>\n",
       "      <td>A jury holdout attempts to prevent a miscarria...</td>\n",
       "      <td>jury holdout attempts prevent miscarriage just...</td>\n",
       "      <td>[jury, holdout, attempts, prevent, miscarriage...</td>\n",
       "    </tr>\n",
       "  </tbody>\n",
       "</table>\n",
       "</div>"
      ],
      "text/plain": [
       "                      title                 genre  \\\n",
       "0  The Shawshank Redemption                 Drama   \n",
       "1             The Godfather          Crime, Drama   \n",
       "2           The Dark Knight  Action, Crime, Drama   \n",
       "3    The Godfather: Part II          Crime, Drama   \n",
       "4              12 Angry Men          Crime, Drama   \n",
       "\n",
       "                                            overview  \\\n",
       "0  Two imprisoned men bond over a number of years...   \n",
       "1  An organized crime dynasty's aging patriarch t...   \n",
       "2  When the menace known as the Joker wreaks havo...   \n",
       "3  The early life and career of Vito Corleone in ...   \n",
       "4  A jury holdout attempts to prevent a miscarria...   \n",
       "\n",
       "                                      clean_overview  \\\n",
       "0  two imprisoned men bond number years finding s...   \n",
       "1  organized crime dynasty aging patriarch transf...   \n",
       "2  menace known joker wreaks havoc chaos people g...   \n",
       "3  early life career vito corleone 1920s new york...   \n",
       "4  jury holdout attempts prevent miscarriage just...   \n",
       "\n",
       "                                 clean_overview_list  \n",
       "0  [two, imprisoned, men, bond, number, years, fi...  \n",
       "1  [organized, crime, dynasty, aging, patriarch, ...  \n",
       "2  [menace, known, joker, wreaks, havoc, chaos, p...  \n",
       "3  [early, life, career, vito, corleone, 1920s, n...  \n",
       "4  [jury, holdout, attempts, prevent, miscarriage...  "
      ]
     },
     "execution_count": 20,
     "metadata": {},
     "output_type": "execute_result"
    }
   ],
   "source": [
    "df['clean_overview_list'] = df['clean_overview'].str.split(' ')\n",
    "df.head(5)"
   ]
  },
  {
   "cell_type": "markdown",
   "metadata": {},
   "source": [
    "- The Dictionary() function traverses texts, assigning a unique integer id to each unique token while also collecting word counts and relevant statistics. To see each token’s unique integer id, try print(dictionary.token2id)."
   ]
  },
  {
   "cell_type": "code",
   "execution_count": 21,
   "metadata": {},
   "outputs": [
    {
     "name": "stdout",
     "output_type": "stream",
     "text": [
      "0 acts\n",
      "1 bond\n",
      "2 common\n",
      "3 decency\n",
      "4 eventual\n",
      "5 finding\n",
      "6 imprisoned\n",
      "7 men\n",
      "8 number\n",
      "9 redemption\n",
      "10 solace\n"
     ]
    }
   ],
   "source": [
    "dictionary = gensim.corpora.Dictionary(df.clean_overview_list)\n",
    "count = 0\n",
    "for k, v in dictionary.iteritems():\n",
    "    print(k, v)\n",
    "    count += 1\n",
    "    if count > 10:\n",
    "        break\n"
   ]
  },
  {
   "cell_type": "markdown",
   "metadata": {},
   "source": [
    "- filter_extremes() - Filter out tokens that appear in \n",
    "- less than 15 documents (absolute number) or\n",
    "- more than 0.5 documents (fraction of total corpus size, not absolute number).\n",
    "- after the above two steps, keep only the first 100000 most frequent tokens."
   ]
  },
  {
   "cell_type": "code",
   "execution_count": 22,
   "metadata": {},
   "outputs": [],
   "source": [
    "dictionary.filter_extremes(no_below=15, no_above=0.5, keep_n=100000)"
   ]
  },
  {
   "cell_type": "markdown",
   "metadata": {},
   "source": [
    "- word frequency stored in Bag of Words Corpus: bow_corpus"
   ]
  },
  {
   "cell_type": "code",
   "execution_count": 23,
   "metadata": {},
   "outputs": [
    {
     "data": {
      "text/plain": [
       "[(0, 1), (1, 1), (2, 1)]"
      ]
     },
     "execution_count": 23,
     "metadata": {},
     "output_type": "execute_result"
    }
   ],
   "source": [
    "bow_corpus = [dictionary.doc2bow(doc) for doc in df.clean_overview_list]\n",
    "bow_corpus[0]"
   ]
  },
  {
   "cell_type": "markdown",
   "metadata": {},
   "source": [
    "- Previewing bow_corpus"
   ]
  },
  {
   "cell_type": "code",
   "execution_count": 24,
   "metadata": {},
   "outputs": [
    {
     "name": "stdout",
     "output_type": "stream",
     "text": [
      "Word 14 (\"army\") appears 1 time.\n",
      "Word 15 (\"world\") appears 1 time.\n",
      "Word 51 (\"young\") appears 1 time.\n",
      "Word 73 (\"officer\") appears 1 time.\n"
     ]
    }
   ],
   "source": [
    "bow_doc_150 = bow_corpus[150]\n",
    "for i in range(len(bow_doc_150)):\n",
    "    print(\"Word {} (\\\"{}\\\") appears {} time.\".format(bow_doc_150[i][0], \n",
    "                                               dictionary[bow_doc_150[i][0]], \n",
    "bow_doc_150[i][1]))"
   ]
  },
  {
   "cell_type": "markdown",
   "metadata": {},
   "source": [
    "- TF-IDF"
   ]
  },
  {
   "cell_type": "code",
   "execution_count": 25,
   "metadata": {},
   "outputs": [
    {
     "name": "stdout",
     "output_type": "stream",
     "text": [
      "[(0, 0.676919229672093), (1, 0.42623776353687154), (2, 0.6000847652084048)]\n"
     ]
    }
   ],
   "source": [
    "tfidf = models.TfidfModel(bow_corpus)\n",
    "corpus_tfidf = tfidf[bow_corpus]\n",
    "\n",
    "for doc in corpus_tfidf:\n",
    "    print(doc)\n",
    "    break"
   ]
  },
  {
   "cell_type": "markdown",
   "metadata": {},
   "source": [
    "#### Running LDA using Bag of Words (bow_corpus)"
   ]
  },
  {
   "cell_type": "markdown",
   "metadata": {},
   "source": [
    "Parameters:\n",
    "\n",
    "num_topics: required. An LDA model requires the user to determine how many topics should be generated. \n",
    "\n",
    "id2word: required. The LdaModel class requires our previous dictionary to map ids to strings.\n",
    "    \n",
    "passes: optional. The number of laps the model will take through corpus. \n",
    "The greater the number of passes, the more accurate the model will be. A lot of passes can be slow on a very large corpus.\n",
    "    "
   ]
  },
  {
   "cell_type": "code",
   "execution_count": 26,
   "metadata": {},
   "outputs": [],
   "source": [
    "lda_model = gensim.models.LdaMulticore(bow_corpus, \n",
    "                                       num_topics=10,\n",
    "                                       id2word=dictionary,\n",
    "                                       passes=2,\n",
    "                                       workers=2)"
   ]
  },
  {
   "cell_type": "code",
   "execution_count": 27,
   "metadata": {
    "scrolled": true
   },
   "outputs": [
    {
     "name": "stdout",
     "output_type": "stream",
     "text": [
      "0: 0.120*\"war\" + 0.086*\"world\" + 0.059*\"three\" + 0.042*\"german\" + 0.034*\"two\" + 0.031*\"men\" + 0.028*\"battle\" + 0.026*\"school\" + 0.025*\"high\" + 0.025*\"french\"\n",
      "\n",
      "1: 0.076*\"young\" + 0.070*\"search\" + 0.059*\"lives\" + 0.058*\"new\" + 0.042*\"school\" + 0.040*\"wife\" + 0.040*\"woman\" + 0.035*\"high\" + 0.032*\"future\" + 0.024*\"forced\"\n",
      "\n",
      "2: 0.079*\"young\" + 0.054*\"man\" + 0.045*\"family\" + 0.043*\"love\" + 0.042*\"year\" + 0.036*\"two\" + 0.034*\"old\" + 0.033*\"life\" + 0.027*\"takes\" + 0.023*\"must\"\n",
      "\n",
      "3: 0.054*\"world\" + 0.046*\"old\" + 0.044*\"young\" + 0.043*\"american\" + 0.041*\"daughter\" + 0.041*\"help\" + 0.035*\"man\" + 0.031*\"girl\" + 0.029*\"army\" + 0.029*\"mysterious\"\n",
      "\n",
      "4: 0.109*\"two\" + 0.087*\"life\" + 0.060*\"story\" + 0.045*\"man\" + 0.032*\"live\" + 0.023*\"lawyer\" + 0.022*\"family\" + 0.022*\"young\" + 0.022*\"school\" + 0.021*\"years\"\n",
      "\n",
      "5: 0.050*\"friends\" + 0.048*\"murder\" + 0.047*\"woman\" + 0.046*\"man\" + 0.043*\"years\" + 0.042*\"time\" + 0.033*\"set\" + 0.033*\"former\" + 0.032*\"world\" + 0.028*\"wife\"\n",
      "\n",
      "6: 0.099*\"life\" + 0.068*\"family\" + 0.065*\"one\" + 0.056*\"new\" + 0.056*\"son\" + 0.054*\"father\" + 0.048*\"city\" + 0.029*\"york\" + 0.023*\"get\" + 0.022*\"finds\"\n",
      "\n",
      "7: 0.079*\"town\" + 0.059*\"finds\" + 0.055*\"small\" + 0.041*\"man\" + 0.039*\"becomes\" + 0.038*\"two\" + 0.037*\"girl\" + 0.030*\"love\" + 0.030*\"battle\" + 0.028*\"mysterious\"\n",
      "\n",
      "8: 0.081*\"young\" + 0.071*\"woman\" + 0.066*\"team\" + 0.049*\"must\" + 0.043*\"story\" + 0.039*\"new\" + 0.033*\"two\" + 0.033*\"police\" + 0.029*\"find\" + 0.027*\"wife\"\n",
      "\n",
      "9: 0.097*\"man\" + 0.079*\"find\" + 0.058*\"war\" + 0.046*\"one\" + 0.043*\"journey\" + 0.039*\"world\" + 0.036*\"american\" + 0.030*\"people\" + 0.029*\"run\" + 0.026*\"boy\"\n",
      "\n"
     ]
    }
   ],
   "source": [
    "for i,topic in lda_model.show_topics(formatted=True, num_topics=10, num_words=10):\n",
    "    print(str(i)+\": \"+ topic)\n",
    "    print()"
   ]
  },
  {
   "cell_type": "markdown",
   "metadata": {},
   "source": [
    "- The weights reflect how important a keyword is to that topic."
   ]
  },
  {
   "cell_type": "markdown",
   "metadata": {},
   "source": [
    "#### Running LDA using TF-IDF"
   ]
  },
  {
   "cell_type": "code",
   "execution_count": 28,
   "metadata": {
    "scrolled": true
   },
   "outputs": [
    {
     "name": "stdout",
     "output_type": "stream",
     "text": [
      "Topic: 0 Word: 0.079*\"mysterious\" + 0.075*\"father\" + 0.038*\"finds\" + 0.030*\"life\" + 0.029*\"two\" + 0.027*\"friend\" + 0.027*\"living\" + 0.024*\"people\" + 0.024*\"battle\" + 0.024*\"sent\"\n",
      "Topic: 1 Word: 0.057*\"team\" + 0.052*\"daughter\" + 0.041*\"years\" + 0.033*\"help\" + 0.032*\"search\" + 0.031*\"man\" + 0.031*\"young\" + 0.029*\"love\" + 0.028*\"family\" + 0.027*\"world\"\n",
      "Topic: 2 Word: 0.074*\"war\" + 0.052*\"battle\" + 0.051*\"world\" + 0.050*\"day\" + 0.047*\"forced\" + 0.040*\"find\" + 0.034*\"german\" + 0.029*\"family\" + 0.028*\"young\" + 0.028*\"set\"\n",
      "Topic: 3 Word: 0.123*\"life\" + 0.066*\"become\" + 0.044*\"son\" + 0.036*\"death\" + 0.033*\"mother\" + 0.033*\"must\" + 0.032*\"town\" + 0.028*\"small\" + 0.027*\"two\" + 0.027*\"detective\"\n",
      "Topic: 4 Word: 0.063*\"one\" + 0.046*\"former\" + 0.040*\"story\" + 0.040*\"love\" + 0.038*\"struggles\" + 0.038*\"men\" + 0.038*\"violent\" + 0.037*\"boy\" + 0.034*\"life\" + 0.031*\"three\"\n",
      "Topic: 5 Word: 0.089*\"two\" + 0.062*\"year\" + 0.059*\"old\" + 0.058*\"friends\" + 0.047*\"new\" + 0.035*\"leads\" + 0.032*\"city\" + 0.030*\"crime\" + 0.027*\"love\" + 0.025*\"murder\"\n",
      "Topic: 6 Word: 0.107*\"young\" + 0.070*\"group\" + 0.044*\"agent\" + 0.044*\"stop\" + 0.036*\"secret\" + 0.032*\"woman\" + 0.030*\"fight\" + 0.029*\"two\" + 0.024*\"love\" + 0.023*\"man\"\n",
      "Topic: 7 Word: 0.118*\"woman\" + 0.060*\"american\" + 0.039*\"years\" + 0.037*\"young\" + 0.032*\"star\" + 0.030*\"search\" + 0.028*\"film\" + 0.027*\"man\" + 0.027*\"four\" + 0.026*\"life\"\n",
      "Topic: 8 Word: 0.061*\"tries\" + 0.051*\"find\" + 0.049*\"police\" + 0.048*\"takes\" + 0.038*\"girl\" + 0.036*\"people\" + 0.030*\"three\" + 0.030*\"discovers\" + 0.023*\"story\" + 0.023*\"run\"\n",
      "Topic: 9 Word: 0.075*\"man\" + 0.059*\"family\" + 0.044*\"world\" + 0.042*\"together\" + 0.035*\"high\" + 0.029*\"young\" + 0.028*\"wife\" + 0.028*\"new\" + 0.027*\"school\" + 0.025*\"old\"\n"
     ]
    }
   ],
   "source": [
    "lda_model_tfidf = gensim.models.LdaMulticore(corpus_tfidf, \n",
    "                                               num_topics=10,\n",
    "                                               id2word=dictionary,\n",
    "                                               passes=2,\n",
    "                                               workers=4)\n",
    "\n",
    "for idx, topic in lda_model_tfidf.print_topics(-1):\n",
    "    print('Topic: {} Word: {}'.format(idx, topic))"
   ]
  },
  {
   "cell_type": "code",
   "execution_count": 46,
   "metadata": {},
   "outputs": [],
   "source": []
  },
  {
   "cell_type": "markdown",
   "metadata": {},
   "source": [
    "### Visualize the topic-keywords"
   ]
  },
  {
   "cell_type": "code",
   "execution_count": 51,
   "metadata": {},
   "outputs": [
    {
     "data": {
      "text/html": [
       "\n",
       "<link rel=\"stylesheet\" type=\"text/css\" href=\"https://cdn.jsdelivr.net/gh/bmabey/pyLDAvis@3.2.2/pyLDAvis/js/ldavis.v1.0.0.css\">\n",
       "\n",
       "\n",
       "<div id=\"ldavis_el860553628857603219221478\"></div>\n",
       "<script type=\"text/javascript\">\n",
       "\n",
       "var ldavis_el860553628857603219221478_data = {\"mdsDat\": {\"x\": [-0.01684190288037524, 0.027851143120629016, 0.06498155680358066, -0.09623277866997183, 0.14941807274923968, 0.06279100551826784, -0.11961173639620057, -0.02666162896352177, 0.010053975939598813, -0.05574770722124658], \"y\": [0.08136486779524259, -0.017945155274060362, -0.029588716764060028, -0.039176721629996004, 0.0023267466141135454, -0.10353065016286352, -0.05857946991805795, 0.12632153515583905, 0.0714340774299951, -0.03262651324615282], \"topics\": [1, 2, 3, 4, 5, 6, 7, 8, 9, 10], \"cluster\": [1, 1, 1, 1, 1, 1, 1, 1, 1, 1], \"Freq\": [13.985474270389323, 12.292512172618359, 11.861897537031075, 9.879453095505465, 9.444714188687566, 9.263505547386425, 9.223438821507573, 8.621977532667646, 7.830333386819202, 7.596693447387365]}, \"tinfo\": {\"Term\": [\"american\", \"becomes\", \"war\", \"two\", \"story\", \"wife\", \"world\", \"get\", \"girl\", \"become\", \"woman\", \"run\", \"life\", \"find\", \"leads\", \"stop\", \"journey\", \"lives\", \"search\", \"day\", \"men\", \"three\", \"man\", \"work\", \"former\", \"forced\", \"battle\", \"time\", \"child\", \"future\", \"film\", \"woman\", \"violent\", \"girl\", \"mysterious\", \"sets\", \"love\", \"young\", \"team\", \"french\", \"year\", \"falls\", \"father\", \"murder\", \"wife\", \"old\", \"mother\", \"way\", \"live\", \"help\", \"finds\", \"new\", \"true\", \"first\", \"friend\", \"son\", \"war\", \"search\", \"town\", \"run\", \"life\", \"story\", \"world\", \"man\", \"years\", \"one\", \"forced\", \"york\", \"set\", \"city\", \"series\", \"around\", \"relationship\", \"living\", \"family\", \"man\", \"new\", \"friends\", \"order\", \"past\", \"old\", \"lawyer\", \"get\", \"friend\", \"year\", \"save\", \"way\", \"struggles\", \"finds\", \"young\", \"together\", \"son\", \"one\", \"becomes\", \"death\", \"become\", \"former\", \"boy\", \"life\", \"two\", \"war\", \"world\", \"detective\", \"lives\", \"police\", \"find\", \"takes\", \"four\", \"tries\", \"death\", \"around\", \"one\", \"daughter\", \"murder\", \"way\", \"mother\", \"goes\", \"son\", \"living\", \"friends\", \"men\", \"officer\", \"first\", \"becomes\", \"must\", \"home\", \"old\", \"day\", \"sets\", \"love\", \"american\", \"two\", \"father\", \"woman\", \"family\", \"story\", \"young\", \"life\", \"american\", \"lawyer\", \"story\", \"true\", \"goes\", \"high\", \"journey\", \"live\", \"father\", \"discovers\", \"boy\", \"people\", \"future\", \"school\", \"friend\", \"small\", \"falls\", \"time\", \"york\", \"home\", \"daughter\", \"mother\", \"must\", \"new\", \"search\", \"murder\", \"year\", \"series\", \"old\", \"former\", \"life\", \"family\", \"man\", \"finds\", \"star\", \"future\", \"sent\", \"men\", \"crime\", \"three\", \"former\", \"agent\", \"relationship\", \"friends\", \"save\", \"film\", \"discovers\", \"back\", \"falls\", \"years\", \"daughter\", \"series\", \"goes\", \"wife\", \"tries\", \"friend\", \"city\", \"two\", \"set\", \"murder\", \"search\", \"four\", \"help\", \"one\", \"young\", \"family\", \"love\", \"new\", \"man\", \"find\", \"get\", \"day\", \"become\", \"together\", \"years\", \"back\", \"two\", \"stop\", \"town\", \"secret\", \"must\", \"small\", \"group\", \"order\", \"series\", \"team\", \"home\", \"love\", \"mysterious\", \"tries\", \"daughter\", \"time\", \"help\", \"agent\", \"lives\", \"family\", \"friends\", \"former\", \"relationship\", \"fight\", \"mother\", \"boy\", \"life\", \"young\", \"story\", \"man\", \"journey\", \"secret\", \"german\", \"officer\", \"army\", \"battle\", \"order\", \"group\", \"people\", \"life\", \"finds\", \"first\", \"true\", \"takes\", \"fight\", \"son\", \"year\", \"town\", \"war\", \"agent\", \"must\", \"police\", \"love\", \"world\", \"live\", \"sets\", \"lives\", \"save\", \"day\", \"four\", \"home\", \"man\", \"becomes\", \"old\", \"family\", \"three\", \"young\", \"story\", \"leads\", \"search\", \"war\", \"world\", \"fight\", \"girl\", \"battle\", \"discovers\", \"school\", \"team\", \"boy\", \"tries\", \"struggles\", \"high\", \"live\", \"become\", \"takes\", \"death\", \"woman\", \"two\", \"son\", \"violent\", \"officer\", \"child\", \"german\", \"time\", \"life\", \"forced\", \"daughter\", \"save\", \"three\", \"wife\", \"help\", \"story\", \"young\", \"man\", \"one\", \"work\", \"child\", \"past\", \"army\", \"wife\", \"together\", \"help\", \"school\", \"war\", \"small\", \"german\", \"home\", \"first\", \"become\", \"friend\", \"years\", \"former\", \"death\", \"american\", \"world\", \"leads\", \"mysterious\", \"new\", \"violent\", \"back\", \"time\", \"set\", \"boy\", \"old\", \"save\", \"find\", \"man\", \"family\", \"two\", \"story\", \"woman\", \"young\", \"run\", \"stop\", \"struggles\", \"becomes\", \"french\", \"time\", \"agent\", \"high\", \"home\", \"living\", \"sent\", \"battle\", \"way\", \"world\", \"people\", \"small\", \"finds\", \"three\", \"sets\", \"man\", \"mysterious\", \"fight\", \"save\", \"goes\", \"together\", \"live\", \"one\", \"four\", \"young\", \"two\", \"must\", \"life\", \"father\", \"group\", \"new\", \"woman\"], \"Freq\": [42.0, 44.0, 56.0, 87.0, 62.0, 41.0, 63.0, 26.0, 42.0, 30.0, 64.0, 18.0, 91.0, 50.0, 24.0, 18.0, 23.0, 33.0, 28.0, 26.0, 27.0, 38.0, 88.0, 17.0, 37.0, 22.0, 26.0, 30.0, 22.0, 20.0, 12.76558955065085, 33.55912405108257, 10.82334212013486, 19.598966825707407, 15.629764768147217, 9.437874320697967, 21.999793695007114, 36.374376125618525, 13.344481184761504, 6.807659798294678, 12.480167001787015, 6.601614414206408, 12.064585926562613, 9.520942283424796, 10.695802164692909, 12.022877093593717, 7.664229232032177, 4.464529335323648, 4.660492590900701, 8.703444617817764, 9.877869051337612, 11.321019386663325, 3.7673615183306435, 4.214058193319783, 5.024749255803848, 5.60301083569187, 9.212883176712962, 4.3865085314396355, 4.813638218952951, 2.733774588912826, 12.3165697871437, 7.548324474049161, 6.944776241667571, 7.938332661339293, 5.317091893207668, 4.901409101424308, 16.105740148378747, 13.830276134031491, 13.746366772058465, 13.428617437066286, 9.111866307433152, 8.377516048826653, 7.8512841198575565, 6.793300142486264, 21.986992577644475, 32.25741454718139, 20.188833067726037, 10.614735263016415, 5.210170379308325, 4.9469022070064534, 9.860699213745205, 4.102358291332115, 4.863472373545285, 5.08934508008778, 6.822031215188186, 3.4114589313338683, 3.6325836406233725, 3.5328457739581283, 8.022535647295266, 15.642682591200497, 3.185252993113642, 4.792802875060642, 6.503395971589358, 5.856646114525961, 3.2759049397321967, 3.899922633165728, 4.7483064712994185, 5.134466200885636, 9.137812568176388, 5.378343392809746, 4.054952206092167, 4.0417829049657, 13.56210658094306, 20.193904745529164, 15.78562486726741, 27.60018227330495, 12.473039048133712, 9.180816214976158, 11.550663517436421, 9.059361983669923, 7.509137700564099, 17.717133941951523, 7.78818048142835, 9.330183993234982, 5.0525673213098505, 7.341941614730573, 4.590982777190346, 7.57094606510492, 4.009312229008593, 8.375092216931904, 5.655425428061633, 3.369150857383603, 3.987792060741159, 7.596525283763186, 7.612998197908593, 4.70889808409558, 7.641159152288835, 4.1310876621769514, 3.277424018839599, 7.843774427699981, 5.802678478855289, 11.079219751675527, 5.400307016750235, 5.882476643139004, 5.58114687357954, 5.241876782845409, 5.756730213808386, 5.27150114859526, 24.639328953474024, 11.637825527083955, 29.261871209582164, 9.341388267658278, 6.968682476715879, 7.948481471324214, 7.144099208459628, 6.338030468937531, 12.19738185481163, 5.169778396788845, 10.510658164099562, 7.064500479374129, 4.385815268821043, 5.980618558826119, 5.631040451554811, 5.840469973267676, 4.109040102301233, 5.773485376984592, 4.208266984977949, 4.680932947395623, 4.019088544325925, 4.700474104919824, 6.417413043972561, 8.461679287354016, 3.988248587026205, 4.987376445002029, 5.02181263562495, 2.7751121856804484, 5.7458045942686615, 4.386441165439711, 8.982020282156077, 6.034355999730412, 7.653674068824827, 4.4233960851974325, 11.80301034900063, 12.080367503765713, 10.023216973683732, 13.974759947789694, 12.365223958549723, 15.937641835529297, 15.57345629777445, 8.13852650069105, 7.061583305172201, 11.481687199590143, 5.404874391248454, 5.48768460273678, 4.062336474480201, 4.71964075411031, 4.010003168481357, 7.008267880397222, 4.349505449977845, 3.3140366194463313, 2.8961130052235395, 6.12303881156963, 4.330833271558276, 3.8266259812623127, 4.099739020437579, 10.319538671706368, 2.7900612083624012, 3.9717746208943403, 3.092215442978106, 2.1644143636986373, 4.441418710353642, 4.950618343145172, 7.872375718550767, 5.331816675977019, 4.654952904836532, 4.423028678195194, 4.757468222555513, 3.970284411768702, 16.253414909104972, 14.291271510036244, 14.36476108624783, 9.672533161639695, 13.668545572345888, 8.45526795530207, 29.535646875599003, 6.295290576981667, 10.47208197755172, 6.070522743774158, 12.370062312725084, 6.174843264072996, 6.008704392915425, 4.080574088255572, 3.421591403536745, 5.654435012961988, 4.105995933602768, 7.514223976208809, 4.666524613471336, 3.927144608553159, 3.0291437366143437, 3.432486997148913, 4.410617643665112, 2.4006077993560107, 3.346955919125351, 5.715486640987322, 3.7109087244931995, 3.506813453838785, 1.879724174520228, 1.8137974253853617, 2.8137477954695496, 3.725826968148862, 6.5043453249614895, 6.487928992864825, 4.732301303199084, 5.036016531944962, 12.08440914492171, 9.208963116718365, 10.780510695556575, 8.523288729031773, 6.358291489474402, 9.919151892518322, 8.223726764899292, 10.829537254189733, 10.168453761594646, 28.71882133577898, 12.766191655893937, 5.713333228519492, 4.985190815181357, 5.053723881249691, 3.844092285330249, 5.967133486151423, 5.500816247174628, 4.425692512010308, 7.782749413242082, 3.2032620748048495, 5.69470433373942, 3.580631635711449, 6.563592421344311, 7.316707710266289, 2.541238322536322, 2.5105903478090874, 3.617848122591362, 2.0495908982118065, 2.7561699860791085, 2.1079032141181937, 2.9287467212423963, 8.245544004833825, 4.047226628282817, 4.046119494693274, 4.170087133212853, 3.3394359027290124, 4.212258278525285, 3.691090803002791, 14.140572825307093, 13.442381418866713, 17.34047148985719, 19.30756651607029, 5.744846297793617, 12.063282110836525, 6.878119751016319, 5.1913408889005215, 7.416694492001021, 8.824601023438222, 9.53502096302565, 5.92865054161169, 3.844823708305278, 4.251830035941354, 4.040749726589763, 5.245261278066123, 4.47368001588664, 3.7581252947082233, 9.582877873727934, 11.038623695502652, 4.229217148118344, 2.6285446035188875, 2.1941865464300068, 2.5866913138643235, 2.5841959592659576, 3.3353075400485035, 9.777715575365157, 2.3425238463288554, 2.703553200709288, 1.9441679517389416, 3.3703596280267116, 3.59250578557386, 3.289646178620566, 3.9634740621739106, 4.639042993239864, 4.190633472619769, 3.229433505372709, 11.134471326765459, 11.528625524752528, 10.55722575781172, 6.40096061079393, 15.408384615623369, 5.152748386597458, 9.563839475674985, 6.519851771571252, 12.440008327363074, 5.823373811726798, 4.445691822575591, 4.627882346042903, 3.4945872461238436, 4.66979858250989, 3.751204999275564, 5.357856865804703, 4.888798657298926, 3.1928847584039466, 5.4500186481410475, 7.098594987726118, 2.3724346037281894, 3.130990557787799, 5.191988908313218, 1.823039059974035, 2.077567308176226, 2.490383263399209, 1.9764923599469406, 3.4654212493421253, 3.72994706920451, 1.4944156342874337, 3.8758255313223136, 6.435999530823812, 3.564457053479996, 4.502416504639389, 3.6314765303993086, 3.6048222225832767, 3.6759479920878286, 12.244912600562907, 9.670506421518903, 8.954627844448547, 18.808873064236177, 7.449381563662132, 11.093221612183092, 5.548217647293136, 4.136583679214959, 4.958648021487718, 3.2341928018984816, 3.0443044913017054, 4.417029295114678, 3.452118185538567, 10.246012191396794, 4.4955882591747764, 4.425953450966871, 6.262746459489407, 4.883468492418516, 2.82861790914255, 10.6104788442334, 4.140080921830183, 2.232087131271707, 1.8942426042850538, 1.8685017525240672, 2.082018026007134, 1.9975723336802287, 4.4334853764059785, 1.7648186002559085, 7.79380904827681, 7.026868628578162, 3.5859923954076365, 5.23178682496691, 3.02173108930063, 2.3142531547441267, 2.678409306865449, 2.5469220712451177], \"Total\": [42.0, 44.0, 56.0, 87.0, 62.0, 41.0, 63.0, 26.0, 42.0, 30.0, 64.0, 18.0, 91.0, 50.0, 24.0, 18.0, 23.0, 33.0, 28.0, 26.0, 27.0, 38.0, 88.0, 17.0, 37.0, 22.0, 26.0, 30.0, 22.0, 20.0, 21.22359938021328, 64.83023823556252, 21.306171264520277, 42.71236146646151, 35.149057174219806, 22.81279382723959, 56.35012736897143, 94.99630321181638, 37.27050218620594, 19.359763938612172, 37.73113798688331, 20.99127681440752, 45.26234497942444, 36.51281322531157, 41.944602416314964, 47.67314693917229, 31.193106007552277, 21.13767046714672, 22.07516252038798, 41.7095960272866, 48.38601448765897, 59.084988630424554, 20.16151228239512, 22.604015385120444, 27.44735639923412, 34.08217331958286, 56.697912492306806, 28.53924203206891, 31.753796678951453, 18.22148954896302, 91.07794448171742, 62.90693264816634, 63.290346739911506, 88.40099984601378, 39.70684973459581, 49.19668159829516, 22.14537235523416, 23.83959323166927, 24.026982176271165, 29.709391445203345, 22.29497176646551, 20.791362830826237, 20.403828247877957, 18.472191858980786, 60.00215533225998, 88.40099984601378, 59.084988630424554, 39.43276293992911, 22.574344393508397, 23.220936798545132, 47.67314693917229, 21.428065759286174, 26.147970987929668, 27.44735639923412, 37.73113798688331, 19.320496438155292, 21.13767046714672, 20.716472767812654, 48.38601448765897, 94.99630321181638, 22.279327160833645, 34.08217331958286, 49.19668159829516, 44.31797892853689, 24.81220911701392, 30.44518718507976, 37.90470880819907, 43.26090616994283, 91.07794448171742, 87.29918784400691, 56.697912492306806, 63.290346739911506, 21.77936694076598, 33.706832469054476, 28.62511673662039, 50.200216404170384, 26.308164840602892, 20.014342634202798, 30.946710273149304, 24.81220911701392, 20.791362830826237, 49.19668159829516, 26.17609082610589, 36.51281322531157, 21.13767046714672, 31.193106007552277, 19.793877760507424, 34.08217331958286, 18.472191858980786, 39.43276293992911, 27.111994237458465, 18.70147284610469, 22.604015385120444, 44.31797892853689, 44.55339282010027, 28.031330686092232, 47.67314693917229, 26.107531730444407, 22.81279382723959, 56.35012736897143, 42.65002896845561, 87.29918784400691, 45.26234497942444, 64.83023823556252, 60.00215533225998, 62.90693264816634, 94.99630321181638, 91.07794448171742, 42.65002896845561, 21.428065759286174, 62.90693264816634, 20.16151228239512, 19.793877760507424, 23.14029013314847, 23.40734946596186, 22.07516252038798, 45.26234497942444, 20.153242930326698, 43.26090616994283, 29.71331603356597, 20.599329691212365, 29.108263307615868, 27.44735639923412, 29.725184282702664, 20.99127681440752, 30.00791427840457, 23.83959323166927, 28.031330686092232, 26.17609082610589, 31.193106007552277, 44.55339282010027, 59.084988630424554, 28.53924203206891, 36.51281322531157, 37.73113798688331, 22.29497176646551, 47.67314693917229, 37.90470880819907, 91.07794448171742, 60.00215533225998, 88.40099984601378, 48.38601448765897, 17.656485853088512, 20.599329691212365, 17.610234772761626, 27.111994237458465, 26.018338877904956, 38.34699963745425, 37.90470880819907, 23.51000679709229, 20.403828247877957, 39.43276293992911, 19.320496438155292, 21.22359938021328, 20.153242930326698, 24.59156683187488, 20.99127681440752, 39.70684973459581, 26.17609082610589, 22.29497176646551, 19.793877760507424, 41.944602416314964, 30.946710273149304, 27.44735639923412, 29.709391445203345, 87.29918784400691, 24.026982176271165, 36.51281322531157, 28.53924203206891, 20.014342634202798, 41.7095960272866, 49.19668159829516, 94.99630321181638, 60.00215533225998, 56.35012736897143, 59.084988630424554, 88.40099984601378, 50.200216404170384, 26.147970987929668, 26.107531730444407, 30.44518718507976, 22.279327160833645, 39.70684973459581, 24.59156683187488, 87.29918784400691, 18.8025230294441, 31.753796678951453, 19.50578997461168, 44.55339282010027, 29.725184282702664, 31.468130812986757, 22.574344393508397, 22.29497176646551, 37.27050218620594, 28.031330686092232, 56.35012736897143, 35.149057174219806, 30.946710273149304, 26.17609082610589, 30.00791427840457, 41.7095960272866, 23.51000679709229, 33.706832469054476, 60.00215533225998, 39.43276293992911, 37.90470880819907, 20.403828247877957, 20.0602711674122, 31.193106007552277, 43.26090616994283, 91.07794448171742, 94.99630321181638, 62.90693264816634, 88.40099984601378, 23.40734946596186, 19.50578997461168, 22.85727937962239, 18.70147284610469, 16.916482977101786, 26.689727906947454, 22.574344393508397, 31.468130812986757, 29.71331603356597, 91.07794448171742, 48.38601448765897, 22.604015385120444, 20.16151228239512, 26.308164840602892, 20.0602711674122, 34.08217331958286, 37.73113798688331, 31.753796678951453, 56.697912492306806, 23.51000679709229, 44.55339282010027, 28.62511673662039, 56.35012736897143, 63.290346739911506, 22.07516252038798, 22.81279382723959, 33.706832469054476, 19.320496438155292, 26.107531730444407, 20.014342634202798, 28.031330686092232, 88.40099984601378, 44.31797892853689, 47.67314693917229, 60.00215533225998, 38.34699963745425, 94.99630321181638, 62.90693264816634, 24.057990168529205, 28.53924203206891, 56.697912492306806, 63.290346739911506, 20.0602711674122, 42.71236146646151, 26.689727906947454, 20.153242930326698, 29.108263307615868, 37.27050218620594, 43.26090616994283, 30.946710273149304, 20.716472767812654, 23.14029013314847, 22.07516252038798, 30.44518718507976, 26.308164840602892, 24.81220911701392, 64.83023823556252, 87.29918784400691, 34.08217331958286, 21.306171264520277, 18.70147284610469, 22.212666018581952, 22.85727937962239, 30.00791427840457, 91.07794448171742, 22.14537235523416, 26.17609082610589, 19.320496438155292, 38.34699963745425, 41.944602416314964, 41.7095960272866, 62.90693264816634, 94.99630321181638, 88.40099984601378, 49.19668159829516, 17.487832580555693, 22.212666018581952, 23.220936798545132, 16.916482977101786, 41.944602416314964, 22.279327160833645, 41.7095960272866, 29.108263307615868, 56.697912492306806, 29.725184282702664, 22.85727937962239, 28.031330686092232, 22.604015385120444, 30.44518718507976, 27.44735639923412, 39.70684973459581, 37.90470880819907, 24.81220911701392, 42.65002896845561, 63.290346739911506, 24.057990168529205, 35.149057174219806, 59.084988630424554, 21.306171264520277, 24.59156683187488, 30.00791427840457, 24.026982176271165, 43.26090616994283, 47.67314693917229, 19.320496438155292, 50.200216404170384, 88.40099984601378, 60.00215533225998, 87.29918784400691, 62.90693264816634, 64.83023823556252, 94.99630321181638, 18.22148954896302, 18.8025230294441, 20.716472767812654, 44.31797892853689, 19.359763938612172, 30.00791427840457, 23.51000679709229, 23.14029013314847, 28.031330686092232, 18.472191858980786, 17.610234772761626, 26.689727906947454, 21.13767046714672, 63.290346739911506, 29.71331603356597, 29.725184282702664, 48.38601448765897, 38.34699963745425, 22.81279382723959, 88.40099984601378, 35.149057174219806, 20.0602711674122, 19.320496438155292, 19.793877760507424, 22.279327160833645, 22.07516252038798, 49.19668159829516, 20.014342634202798, 94.99630321181638, 87.29918784400691, 44.55339282010027, 91.07794448171742, 45.26234497942444, 31.468130812986757, 59.084988630424554, 64.83023823556252], \"Category\": [\"Default\", \"Default\", \"Default\", \"Default\", \"Default\", \"Default\", \"Default\", \"Default\", \"Default\", \"Default\", \"Default\", \"Default\", \"Default\", \"Default\", \"Default\", \"Default\", \"Default\", \"Default\", \"Default\", \"Default\", \"Default\", \"Default\", \"Default\", \"Default\", \"Default\", \"Default\", \"Default\", \"Default\", \"Default\", \"Default\", \"Topic1\", \"Topic1\", \"Topic1\", \"Topic1\", \"Topic1\", \"Topic1\", \"Topic1\", \"Topic1\", \"Topic1\", \"Topic1\", \"Topic1\", \"Topic1\", \"Topic1\", \"Topic1\", \"Topic1\", \"Topic1\", \"Topic1\", \"Topic1\", \"Topic1\", \"Topic1\", \"Topic1\", \"Topic1\", \"Topic1\", \"Topic1\", \"Topic1\", \"Topic1\", \"Topic1\", \"Topic1\", \"Topic1\", \"Topic1\", \"Topic1\", \"Topic1\", \"Topic1\", \"Topic1\", \"Topic1\", \"Topic1\", \"Topic2\", \"Topic2\", \"Topic2\", \"Topic2\", \"Topic2\", \"Topic2\", \"Topic2\", \"Topic2\", \"Topic2\", \"Topic2\", \"Topic2\", \"Topic2\", \"Topic2\", \"Topic2\", \"Topic2\", \"Topic2\", \"Topic2\", \"Topic2\", \"Topic2\", \"Topic2\", \"Topic2\", \"Topic2\", \"Topic2\", \"Topic2\", \"Topic2\", \"Topic2\", \"Topic2\", \"Topic2\", \"Topic2\", \"Topic2\", \"Topic2\", \"Topic2\", \"Topic2\", \"Topic2\", \"Topic2\", \"Topic2\", \"Topic3\", \"Topic3\", \"Topic3\", \"Topic3\", \"Topic3\", \"Topic3\", \"Topic3\", \"Topic3\", \"Topic3\", \"Topic3\", \"Topic3\", \"Topic3\", \"Topic3\", \"Topic3\", \"Topic3\", \"Topic3\", \"Topic3\", \"Topic3\", \"Topic3\", \"Topic3\", \"Topic3\", \"Topic3\", \"Topic3\", \"Topic3\", \"Topic3\", \"Topic3\", \"Topic3\", \"Topic3\", \"Topic3\", \"Topic3\", \"Topic3\", \"Topic3\", \"Topic3\", \"Topic3\", \"Topic3\", \"Topic3\", \"Topic4\", \"Topic4\", \"Topic4\", \"Topic4\", \"Topic4\", \"Topic4\", \"Topic4\", \"Topic4\", \"Topic4\", \"Topic4\", \"Topic4\", \"Topic4\", \"Topic4\", \"Topic4\", \"Topic4\", \"Topic4\", \"Topic4\", \"Topic4\", \"Topic4\", \"Topic4\", \"Topic4\", \"Topic4\", \"Topic4\", \"Topic4\", \"Topic4\", \"Topic4\", \"Topic4\", \"Topic4\", \"Topic4\", \"Topic4\", \"Topic4\", \"Topic4\", \"Topic4\", \"Topic4\", \"Topic5\", \"Topic5\", \"Topic5\", \"Topic5\", \"Topic5\", \"Topic5\", \"Topic5\", \"Topic5\", \"Topic5\", \"Topic5\", \"Topic5\", \"Topic5\", \"Topic5\", \"Topic5\", \"Topic5\", \"Topic5\", \"Topic5\", \"Topic5\", \"Topic5\", \"Topic5\", \"Topic5\", \"Topic5\", \"Topic5\", \"Topic5\", \"Topic5\", \"Topic5\", \"Topic5\", \"Topic5\", \"Topic5\", \"Topic5\", \"Topic5\", \"Topic5\", \"Topic5\", \"Topic5\", \"Topic5\", \"Topic5\", \"Topic6\", \"Topic6\", \"Topic6\", \"Topic6\", \"Topic6\", \"Topic6\", \"Topic6\", \"Topic6\", \"Topic6\", \"Topic6\", \"Topic6\", \"Topic6\", \"Topic6\", \"Topic6\", \"Topic6\", \"Topic6\", \"Topic6\", \"Topic6\", \"Topic6\", \"Topic6\", \"Topic6\", \"Topic6\", \"Topic6\", \"Topic6\", \"Topic6\", \"Topic6\", \"Topic6\", \"Topic6\", \"Topic6\", \"Topic6\", \"Topic6\", \"Topic6\", \"Topic6\", \"Topic6\", \"Topic6\", \"Topic6\", \"Topic7\", \"Topic7\", \"Topic7\", \"Topic7\", \"Topic7\", \"Topic7\", \"Topic7\", \"Topic7\", \"Topic7\", \"Topic7\", \"Topic7\", \"Topic7\", \"Topic7\", \"Topic7\", \"Topic7\", \"Topic7\", \"Topic7\", \"Topic7\", \"Topic7\", \"Topic7\", \"Topic7\", \"Topic7\", \"Topic7\", \"Topic7\", \"Topic7\", \"Topic7\", \"Topic7\", \"Topic7\", \"Topic7\", \"Topic7\", \"Topic7\", \"Topic7\", \"Topic7\", \"Topic7\", \"Topic7\", \"Topic7\", \"Topic7\", \"Topic7\", \"Topic8\", \"Topic8\", \"Topic8\", \"Topic8\", \"Topic8\", \"Topic8\", \"Topic8\", \"Topic8\", \"Topic8\", \"Topic8\", \"Topic8\", \"Topic8\", \"Topic8\", \"Topic8\", \"Topic8\", \"Topic8\", \"Topic8\", \"Topic8\", \"Topic8\", \"Topic8\", \"Topic8\", \"Topic8\", \"Topic8\", \"Topic8\", \"Topic8\", \"Topic8\", \"Topic8\", \"Topic8\", \"Topic8\", \"Topic8\", \"Topic8\", \"Topic8\", \"Topic8\", \"Topic8\", \"Topic8\", \"Topic8\", \"Topic8\", \"Topic9\", \"Topic9\", \"Topic9\", \"Topic9\", \"Topic9\", \"Topic9\", \"Topic9\", \"Topic9\", \"Topic9\", \"Topic9\", \"Topic9\", \"Topic9\", \"Topic9\", \"Topic9\", \"Topic9\", \"Topic9\", \"Topic9\", \"Topic9\", \"Topic9\", \"Topic9\", \"Topic9\", \"Topic9\", \"Topic9\", \"Topic9\", \"Topic9\", \"Topic9\", \"Topic9\", \"Topic9\", \"Topic9\", \"Topic9\", \"Topic9\", \"Topic9\", \"Topic9\", \"Topic9\", \"Topic9\", \"Topic9\", \"Topic9\", \"Topic10\", \"Topic10\", \"Topic10\", \"Topic10\", \"Topic10\", \"Topic10\", \"Topic10\", \"Topic10\", \"Topic10\", \"Topic10\", \"Topic10\", \"Topic10\", \"Topic10\", \"Topic10\", \"Topic10\", \"Topic10\", \"Topic10\", \"Topic10\", \"Topic10\", \"Topic10\", \"Topic10\", \"Topic10\", \"Topic10\", \"Topic10\", \"Topic10\", \"Topic10\", \"Topic10\", \"Topic10\", \"Topic10\", \"Topic10\", \"Topic10\", \"Topic10\", \"Topic10\", \"Topic10\", \"Topic10\", \"Topic10\"], \"logprob\": [30.0, 29.0, 28.0, 27.0, 26.0, 25.0, 24.0, 23.0, 22.0, 21.0, 20.0, 19.0, 18.0, 17.0, 16.0, 15.0, 14.0, 13.0, 12.0, 11.0, 10.0, 9.0, 8.0, 7.0, 6.0, 5.0, 4.0, 3.0, 2.0, 1.0, -3.5654, -2.5988, -3.7305, -3.1367, -3.363, -3.8674, -3.0211, -2.5183, -3.5211, -4.1941, -3.588, -4.2248, -3.6219, -3.8587, -3.7423, -3.6253, -4.0756, -4.616, -4.573, -3.9484, -3.8219, -3.6855, -4.7858, -4.6737, -4.4978, -4.3889, -3.8916, -4.6336, -4.5407, -5.1065, -3.6012, -4.0908, -4.1742, -4.0405, -4.4412, -4.5226, -3.204, -3.3563, -3.3624, -3.3857, -3.7736, -3.8576, -3.9225, -4.0672, -2.8927, -2.5094, -2.978, -3.6209, -4.3325, -4.3844, -3.6946, -4.5716, -4.4014, -4.356, -4.063, -4.756, -4.6932, -4.721, -3.9009, -3.2331, -4.8246, -4.416, -4.1108, -4.2156, -4.7965, -4.6222, -4.4253, -4.3472, -3.7707, -4.3007, -4.5832, -4.5864, -3.3402, -2.9421, -3.1884, -2.6296, -3.4239, -3.7304, -3.5007, -3.7437, -3.9313, -3.0729, -3.8949, -3.7142, -4.3276, -3.9539, -4.4234, -3.9232, -4.5588, -3.8222, -4.2149, -4.7328, -4.5642, -3.9198, -3.9176, -4.398, -3.9139, -4.5289, -4.7604, -3.8877, -4.1891, -3.5424, -4.261, -4.1755, -4.2281, -4.2908, -4.1971, -4.2852, -2.5603, -3.3103, -2.3883, -3.5301, -3.8232, -3.6916, -3.7983, -3.918, -3.2634, -4.1218, -3.4122, -3.8095, -4.2862, -3.9761, -4.0363, -3.9998, -4.3514, -4.0113, -4.3275, -4.2211, -4.3735, -4.2169, -3.9056, -3.629, -4.3812, -4.1577, -4.1508, -4.7439, -4.0161, -4.2861, -3.5694, -3.9671, -3.7294, -4.2777, -3.2512, -3.228, -3.4147, -3.0823, -3.2047, -2.9509, -2.974, -3.623, -3.7649, -3.2788, -4.0323, -4.0171, -4.3178, -4.1679, -4.3308, -3.7725, -4.2495, -4.5214, -4.6562, -3.9075, -4.2538, -4.3776, -4.3087, -3.3856, -4.6935, -4.3404, -4.5907, -4.9474, -4.2286, -4.1201, -3.6562, -4.0459, -4.1817, -4.2328, -4.1599, -4.3408, -2.9119, -3.0406, -3.0354, -3.4309, -3.0851, -3.5654, -2.3146, -3.8604, -3.3515, -3.8968, -3.1849, -3.8797, -3.907, -4.294, -4.4701, -3.9678, -4.2878, -3.6834, -4.1598, -4.3323, -4.5919, -4.4669, -4.2162, -4.8245, -4.4922, -3.957, -4.3889, -4.4455, -5.0691, -5.1048, -4.6657, -4.3849, -3.8278, -3.8303, -4.1458, -4.0836, -3.204, -3.4757, -3.3181, -3.5531, -3.8461, -3.4014, -3.5889, -3.3136, -3.3766, -2.3383, -3.1491, -3.9531, -4.0894, -4.0758, -4.3493, -3.9096, -3.991, -4.2085, -3.644, -4.5317, -3.9563, -4.4203, -3.8143, -3.7057, -4.7632, -4.7754, -4.41, -4.9782, -4.682, -4.9502, -4.6213, -3.5862, -4.2979, -4.2981, -4.2679, -4.4901, -4.2579, -4.39, -2.9794, -3.03, -2.7754, -2.668, -3.8801, -3.1383, -3.7001, -3.9815, -3.6247, -3.4509, -3.3735, -3.8487, -4.2817, -4.1811, -4.232, -3.9711, -4.1302, -4.3045, -3.3685, -3.2271, -4.1864, -4.662, -4.8426, -4.6781, -4.679, -4.4239, -3.3483, -4.7772, -4.6339, -4.9636, -4.4134, -4.3496, -4.4377, -4.2513, -4.0939, -4.1956, -4.4561, -3.1221, -3.0873, -3.1753, -3.6757, -2.7972, -3.8926, -3.2742, -3.6573, -3.0112, -3.7703, -4.0402, -4.0, -4.2809, -3.991, -4.2101, -3.8536, -3.9452, -4.3712, -3.8365, -3.5722, -4.6682, -4.3908, -3.885, -4.9316, -4.8009, -4.6197, -4.8508, -4.2893, -4.2157, -5.1304, -4.1774, -3.6702, -4.2611, -4.0275, -4.2425, -4.2499, -4.2303, -2.9967, -3.2328, -3.3097, -2.5675, -3.4937, -3.0955, -3.7884, -4.082, -3.9007, -4.3281, -4.3886, -4.0164, -4.2629, -3.175, -3.9988, -4.0144, -3.6672, -3.916, -4.4621, -3.14, -4.0811, -4.6989, -4.863, -4.8767, -4.7685, -4.8099, -4.0127, -4.9338, -3.4485, -3.5521, -4.2248, -3.8471, -4.396, -4.6628, -4.5166, -4.567], \"loglift\": [30.0, 29.0, 28.0, 27.0, 26.0, 25.0, 24.0, 23.0, 22.0, 21.0, 20.0, 19.0, 18.0, 17.0, 16.0, 15.0, 14.0, 13.0, 12.0, 11.0, 10.0, 9.0, 8.0, 7.0, 6.0, 5.0, 4.0, 3.0, 2.0, 1.0, 1.4588, 1.3087, 1.2899, 1.1881, 1.1567, 1.0846, 1.0266, 1.0072, 0.9401, 0.922, 0.8608, 0.8104, 0.6449, 0.623, 0.6007, 0.5896, 0.5635, 0.4123, 0.4118, 0.4001, 0.3782, 0.3148, 0.2898, 0.2874, 0.2693, 0.1617, 0.15, 0.0944, 0.0806, 0.0702, -0.0336, -0.1532, -0.2426, -0.443, -0.0434, -0.3392, 1.7777, 1.5517, 1.5378, 1.3021, 1.2014, 1.1872, 1.1411, 1.0959, 1.0923, 1.088, 1.0223, 0.7838, 0.63, 0.5499, 0.5204, 0.443, 0.4142, 0.4111, 0.3859, 0.3622, 0.3351, 0.3274, 0.2992, 0.2923, 0.1511, 0.1345, 0.0727, 0.0724, 0.0714, 0.0412, 0.0189, -0.0351, -0.2031, -0.6908, -0.5416, -0.6549, 1.6582, 1.6195, 1.5367, 1.5336, 1.3855, 1.3525, 1.1463, 1.1243, 1.1134, 1.1105, 0.9196, 0.7674, 0.7007, 0.6852, 0.6706, 0.6274, 0.6042, 0.5825, 0.5645, 0.4179, 0.3969, 0.3681, 0.365, 0.348, 0.301, 0.2882, 0.1916, 0.16, 0.1371, 0.0676, 0.0058, -0.268, -0.2431, -0.3531, -0.6716, -0.7176, 1.766, 1.7043, 1.5493, 1.5454, 1.2708, 1.2461, 1.1279, 1.0668, 1.0035, 0.9542, 0.8999, 0.8782, 0.7678, 0.7322, 0.7307, 0.6875, 0.6838, 0.6665, 0.5804, 0.5249, 0.4409, 0.4222, 0.377, 0.3713, 0.3468, 0.324, 0.298, 0.231, 0.1988, 0.1582, -0.0018, 0.0178, -0.132, -0.0776, 1.957, 1.826, 1.7961, 1.697, 1.6158, 1.4817, 1.4702, 1.2989, 1.2987, 1.1259, 1.0858, 1.0071, 0.7581, 0.709, 0.7044, 0.6253, 0.5649, 0.4535, 0.4377, 0.4354, 0.3932, 0.3894, 0.3792, 0.2244, 0.2066, 0.1413, 0.1373, 0.1354, 0.12, 0.0634, -0.1308, -0.061, -0.1339, -0.2324, -0.5625, -0.1775, 1.9036, 1.7765, 1.6279, 1.5447, 1.3127, 1.3115, 1.2953, 1.2849, 1.2698, 1.2118, 1.0977, 0.8076, 0.7233, 0.6685, 0.5048, 0.4933, 0.4582, 0.3643, 0.3599, 0.3147, 0.2225, 0.2109, 0.1324, 0.0974, 0.0694, 0.0279, 0.0158, -0.0013, -0.0055, -0.0242, -0.0266, -0.0729, -0.2602, -0.3048, -0.2082, -0.4862, 1.7223, 1.6329, 1.6319, 1.5976, 1.4049, 1.3936, 1.3736, 1.3167, 1.3111, 1.2293, 1.051, 1.0081, 0.9861, 0.7337, 0.7312, 0.6409, 0.4578, 0.4128, 0.3976, 0.3902, 0.3263, 0.3047, 0.2334, 0.2258, 0.2216, 0.1766, 0.1516, 0.1399, 0.135, 0.1327, 0.1247, 0.0112, -0.0099, -0.0832, -0.283, -0.0575, -0.7324, -0.4523, 1.9194, 1.698, 1.2662, 1.2636, 1.2004, 1.1865, 1.0949, 1.0945, 1.0836, 1.0102, 0.9386, 0.7984, 0.7667, 0.7566, 0.7528, 0.6923, 0.6792, 0.5634, 0.5391, 0.3829, 0.3641, 0.3583, 0.3081, 0.3006, 0.271, 0.254, 0.2192, 0.2045, 0.1806, 0.1545, 0.0192, -0.0066, -0.0891, -0.3137, -0.5685, -0.5982, -0.2727, 2.0957, 1.8913, 1.7589, 1.5753, 1.5457, 1.083, 1.0744, 1.051, 1.0303, 0.9171, 0.9098, 0.7459, 0.6803, 0.6724, 0.557, 0.5442, 0.499, 0.4968, 0.4898, 0.3593, 0.2306, 0.1289, 0.1153, 0.0887, 0.076, 0.0581, 0.0493, 0.0227, -0.0008, -0.0123, -0.0141, -0.0728, -0.2762, -0.4176, -0.3049, -0.3423, -0.7049, 2.18, 1.9125, 1.7387, 1.7204, 1.6224, 1.5823, 1.1335, 0.8558, 0.8453, 0.835, 0.8222, 0.7786, 0.7654, 0.7566, 0.689, 0.6729, 0.5329, 0.5166, 0.4899, 0.4574, 0.4386, 0.3817, 0.2551, 0.2172, 0.2071, 0.1749, 0.1708, 0.1491, 0.0769, 0.0579, 0.0578, -0.2795, -0.1292, -0.0324, -0.5163, -0.6594]}, \"token.table\": {\"Topic\": [2, 5, 6, 7, 8, 9, 10, 1, 2, 3, 4, 6, 7, 8, 9, 10, 2, 3, 7, 9, 10, 1, 2, 3, 6, 2, 3, 4, 5, 6, 7, 8, 9, 1, 2, 4, 7, 8, 9, 10, 1, 2, 3, 6, 7, 8, 9, 2, 3, 4, 5, 6, 7, 9, 10, 1, 2, 3, 4, 5, 6, 7, 8, 9, 2, 3, 5, 6, 7, 8, 9, 10, 1, 2, 3, 4, 5, 6, 7, 9, 10, 1, 2, 3, 4, 5, 6, 7, 8, 9, 10, 1, 2, 3, 4, 5, 6, 7, 8, 1, 2, 3, 4, 6, 7, 10, 1, 2, 3, 5, 8, 9, 1, 2, 3, 4, 5, 6, 8, 9, 2, 3, 4, 5, 6, 8, 9, 10, 1, 2, 3, 4, 5, 6, 7, 1, 2, 3, 4, 5, 6, 7, 8, 9, 10, 1, 2, 3, 4, 5, 6, 7, 8, 9, 10, 2, 3, 4, 5, 6, 7, 8, 10, 1, 3, 5, 9, 1, 2, 3, 5, 6, 7, 8, 9, 10, 1, 2, 4, 5, 6, 7, 8, 9, 10, 1, 3, 4, 6, 7, 8, 9, 10, 2, 4, 5, 6, 7, 8, 1, 2, 3, 4, 5, 6, 8, 9, 10, 1, 2, 3, 5, 6, 7, 9, 10, 1, 2, 3, 7, 8, 9, 10, 1, 2, 4, 5, 8, 9, 10, 2, 3, 4, 5, 6, 7, 9, 10, 1, 2, 4, 5, 6, 7, 8, 1, 2, 3, 4, 7, 8, 9, 2, 3, 5, 6, 8, 1, 2, 3, 6, 8, 9, 10, 1, 3, 4, 5, 8, 9, 10, 1, 2, 3, 4, 5, 6, 7, 9, 10, 1, 2, 3, 4, 5, 6, 7, 8, 9, 10, 2, 3, 4, 6, 7, 8, 9, 10, 2, 3, 4, 6, 7, 8, 9, 10, 1, 2, 3, 4, 7, 8, 9, 1, 2, 4, 5, 7, 10, 1, 2, 3, 4, 5, 6, 8, 9, 10, 1, 2, 3, 4, 5, 6, 7, 8, 9, 10, 1, 3, 4, 7, 8, 9, 10, 1, 2, 3, 6, 7, 8, 9, 10, 1, 2, 3, 4, 7, 8, 10, 1, 2, 3, 4, 5, 6, 7, 8, 10, 1, 2, 3, 4, 5, 6, 7, 8, 9, 10, 2, 3, 4, 5, 7, 9, 10, 1, 2, 3, 4, 6, 7, 9, 10, 1, 2, 3, 4, 5, 6, 7, 8, 9, 1, 2, 3, 4, 5, 6, 7, 8, 9, 10, 1, 3, 5, 6, 7, 8, 9, 10, 1, 2, 3, 4, 5, 6, 7, 8, 9, 10, 2, 3, 4, 5, 7, 8, 10, 1, 2, 3, 4, 5, 6, 7, 9, 10, 1, 2, 3, 4, 5, 6, 7, 8, 10, 1, 2, 4, 6, 7, 8, 10, 1, 2, 5, 6, 7, 9, 10, 1, 2, 3, 4, 6, 7, 9, 10, 1, 2, 3, 4, 5, 6, 7, 8, 10, 1, 2, 3, 5, 6, 7, 8, 1, 2, 3, 4, 10, 1, 2, 3, 5, 6, 7, 8, 9, 10, 1, 2, 3, 4, 6, 7, 8, 9, 1, 2, 3, 4, 5, 8, 9, 1, 3, 4, 5, 6, 7, 10, 4, 5, 6, 7, 9, 10, 1, 2, 4, 5, 6, 7, 10, 2, 3, 4, 5, 7, 8, 9, 10, 1, 3, 5, 6, 7, 8, 9, 10, 1, 2, 3, 4, 6, 7, 9, 10, 1, 2, 3, 5, 6, 7, 8, 9, 10, 1, 2, 5, 6, 9, 4, 6, 8, 9, 10, 1, 2, 3, 4, 5, 6, 7, 8, 9, 1, 2, 5, 6, 8, 10, 3, 5, 7, 8, 9, 1, 2, 3, 4, 6, 8, 9, 10, 1, 2, 3, 5, 7, 8, 9, 10, 1, 3, 4, 6, 7, 8, 9, 10, 1, 2, 5, 6, 9, 10, 1, 2, 4, 5, 6, 7, 9, 10, 1, 2, 3, 4, 5, 6, 8, 9, 10, 1, 4, 7, 9, 1, 2, 3, 4, 5, 6, 7, 8, 9, 10, 1, 2, 3, 5, 6, 7, 8, 9, 1, 2, 3, 4, 6, 7, 8, 9, 10, 1, 2, 3, 4, 7, 8, 9, 10, 1, 2, 3, 5, 7, 8, 9, 10, 1, 2, 3, 5, 6, 7, 8, 9, 10, 1, 2, 3, 5, 6, 9, 10, 1, 2, 3, 4, 5, 6, 7, 8, 9, 10, 1, 2, 3, 4, 6, 7, 9, 10, 1, 2, 3, 4, 5, 6, 9, 10, 2, 3, 4, 5, 6, 7, 10, 1, 2, 3, 4, 5, 6, 7, 8, 9, 10], \"Freq\": [0.042535079152919666, 0.34028063322335733, 0.08507015830583933, 0.127605237458759, 0.08507015830583933, 0.042535079152919666, 0.255210474917518, 0.023446642925837403, 0.023446642925837403, 0.1406798575550244, 0.586166073145935, 0.023446642925837403, 0.04689328585167481, 0.023446642925837403, 0.11723321462918701, 0.023446642925837403, 0.0591139423811441, 0.1182278847622882, 0.3546836542868646, 0.3546836542868646, 0.0591139423811441, 0.09619379048278198, 0.38477516193112793, 0.38477516193112793, 0.04809689524139099, 0.08132869343679468, 0.12199304015519201, 0.04066434671839734, 0.2033217335919867, 0.3253147737471787, 0.04066434671839734, 0.08132869343679468, 0.08132869343679468, 0.03746759815186035, 0.03746759815186035, 0.0749351963037207, 0.3746759815186035, 0.26227318706302244, 0.03746759815186035, 0.1498703926074414, 0.03284591400016318, 0.13138365600065272, 0.03284591400016318, 0.45984279600228456, 0.03284591400016318, 0.16422957000081592, 0.16422957000081592, 0.13538523518130305, 0.18051364690840407, 0.06769261759065152, 0.02256420586355051, 0.02256420586355051, 0.09025682345420204, 0.04512841172710102, 0.4287199114074597, 0.092462233321852, 0.11557779165231498, 0.092462233321852, 0.25427114163509296, 0.046231116660926, 0.092462233321852, 0.023115558330463, 0.23115558330462996, 0.069346674991389, 0.09003871927516062, 0.04501935963758031, 0.09003871927516062, 0.04501935963758031, 0.04501935963758031, 0.1350580789127409, 0.5402323156509636, 0.04501935963758031, 0.033659390224953685, 0.43757207292439787, 0.10097817067486105, 0.06731878044990737, 0.13463756089981474, 0.033659390224953685, 0.033659390224953685, 0.06731878044990737, 0.06731878044990737, 0.07686885813061728, 0.11530328719592592, 0.07686885813061728, 0.07686885813061728, 0.4612131487837037, 0.07686885813061728, 0.03843442906530864, 0.03843442906530864, 0.03843442906530864, 0.03843442906530864, 0.03820280142834322, 0.03820280142834322, 0.30562241142674573, 0.15281120571337287, 0.15281120571337287, 0.11460840428502966, 0.07640560285668643, 0.11460840428502966, 0.038303123034564165, 0.038303123034564165, 0.15321249213825666, 0.038303123034564165, 0.5362437224838983, 0.1149093691036925, 0.07660624606912833, 0.08060547896271697, 0.12090821844407547, 0.3627246553322264, 0.08060547896271697, 0.16121095792543394, 0.12090821844407547, 0.09183003369379203, 0.09183003369379203, 0.6428102358565442, 0.045915016846896015, 0.045915016846896015, 0.09183003369379203, 0.045915016846896015, 0.045915016846896015, 0.04961980577801675, 0.04961980577801675, 0.24809902889008378, 0.198479223112067, 0.04961980577801675, 0.24809902889008378, 0.04961980577801675, 0.04961980577801675, 0.3334718541368335, 0.09527767261052386, 0.09527767261052386, 0.19055534522104772, 0.19055534522104772, 0.09527767261052386, 0.04763883630526193, 0.06666427193906836, 0.366653495664876, 0.09999640790860254, 0.09999640790860254, 0.08333033992383546, 0.09999640790860254, 0.06666427193906836, 0.03333213596953418, 0.06666427193906836, 0.03333213596953418, 0.2651210405792058, 0.06628026014480146, 0.11046710024133576, 0.2651210405792058, 0.08837368019306861, 0.044186840096534306, 0.044186840096534306, 0.022093420048267153, 0.022093420048267153, 0.06628026014480146, 0.04984977479389683, 0.04984977479389683, 0.09969954958779366, 0.09969954958779366, 0.09969954958779366, 0.19939909917558732, 0.299098648763381, 0.09969954958779366, 0.6125256968485692, 0.04711736129604378, 0.2355868064802189, 0.04711736129604378, 0.059760698556486205, 0.07968093140864826, 0.5577665198605379, 0.07968093140864826, 0.03984046570432413, 0.03984046570432413, 0.03984046570432413, 0.07968093140864826, 0.03984046570432413, 0.20667128933610635, 0.16533703146888507, 0.08266851573444253, 0.020667128933610633, 0.020667128933610633, 0.26867267613693824, 0.041334257867221266, 0.0620013868008319, 0.1240027736016638, 0.17695970967322389, 0.17695970967322389, 0.08847985483661194, 0.04423992741830597, 0.26543956450983586, 0.04423992741830597, 0.13271978225491793, 0.04423992741830597, 0.7224985763772145, 0.045156161023575905, 0.045156161023575905, 0.045156161023575905, 0.045156161023575905, 0.09031232204715181, 0.026381946503271716, 0.13190973251635857, 0.026381946503271716, 0.10552778601308686, 0.42211114405234745, 0.10552778601308686, 0.026381946503271716, 0.13190973251635857, 0.026381946503271716, 0.0999283382199209, 0.04996416910996045, 0.4496775219896441, 0.0999283382199209, 0.04996416910996045, 0.0999283382199209, 0.04996416910996045, 0.0999283382199209, 0.36157465670533395, 0.10330704477295256, 0.05165352238647628, 0.05165352238647628, 0.05165352238647628, 0.05165352238647628, 0.36157465670533395, 0.18216690625037818, 0.18216690625037818, 0.21860028750045382, 0.14573352500030257, 0.07286676250015128, 0.14573352500030257, 0.07286676250015128, 0.27895585244070076, 0.20287698359323694, 0.025359622949154618, 0.27895585244070076, 0.10143849179661847, 0.050719245898309236, 0.050719245898309236, 0.025359622949154618, 0.04854526894759095, 0.04854526894759095, 0.1941810757903638, 0.5825432273710914, 0.04854526894759095, 0.04854526894759095, 0.04854526894759095, 0.04374973868900229, 0.08749947737800458, 0.04374973868900229, 0.04374973868900229, 0.4812471255790252, 0.13124921606700687, 0.17499895475600916, 0.19121942587086707, 0.03824388517417342, 0.03824388517417342, 0.6119021627867747, 0.07648777034834683, 0.46824851900788367, 0.07023727785118256, 0.04682485190078837, 0.023412425950394184, 0.2809491114047302, 0.07023727785118256, 0.023412425950394184, 0.05052067169956922, 0.2526033584978461, 0.35364470189698455, 0.15156201509870765, 0.05052067169956922, 0.05052067169956922, 0.10104134339913844, 0.09533454712734045, 0.06355636475156029, 0.06355636475156029, 0.031778182375780145, 0.09533454712734045, 0.1906690942546809, 0.3495600061335816, 0.06355636475156029, 0.06355636475156029, 0.21577768324853017, 0.023975298138725572, 0.09590119255490229, 0.047950596277451144, 0.09590119255490229, 0.09590119255490229, 0.047950596277451144, 0.07192589441617672, 0.23975298138725573, 0.047950596277451144, 0.04321466992185633, 0.04321466992185633, 0.34571735937485065, 0.08642933984371266, 0.04321466992185633, 0.17285867968742533, 0.04321466992185633, 0.17285867968742533, 0.03567436777077981, 0.17837183885389907, 0.17837183885389907, 0.14269747108311925, 0.10702310331233945, 0.03567436777077981, 0.17837183885389907, 0.17837183885389907, 0.042721624738168866, 0.042721624738168866, 0.042721624738168866, 0.29905137316718206, 0.5126594968580264, 0.042721624738168866, 0.042721624738168866, 0.04666776792798646, 0.18667107171194583, 0.5600132151358375, 0.04666776792798646, 0.09333553585597291, 0.09333553585597291, 0.04156623196679673, 0.04156623196679673, 0.12469869590039018, 0.04156623196679673, 0.04156623196679673, 0.04156623196679673, 0.5819272475351541, 0.08313246393359346, 0.04156623196679673, 0.13175527915442609, 0.09881645936581956, 0.05489803298101087, 0.09881645936581956, 0.021959213192404348, 0.07685724617341522, 0.31840859128986304, 0.10979606596202174, 0.03293881978860652, 0.05489803298101087, 0.22649889872303974, 0.04529977974460795, 0.2717986784676477, 0.13589933923382386, 0.1811991189784318, 0.04529977974460795, 0.0905995594892159, 0.029667575584804023, 0.059335151169608046, 0.5933515116960805, 0.08900272675441206, 0.11867030233921609, 0.029667575584804023, 0.029667575584804023, 0.029667575584804023, 0.05413542732958468, 0.3789479913070927, 0.21654170931833872, 0.05413542732958468, 0.05413542732958468, 0.05413542732958468, 0.16240628198875404, 0.39041615391474793, 0.053238566442920174, 0.1419695105144538, 0.053238566442920174, 0.08873094407153362, 0.1419695105144538, 0.12422332170014708, 0.017746188814306726, 0.017746188814306726, 0.09049671399571552, 0.36198685598286207, 0.01131208924946444, 0.09049671399571552, 0.0565604462473222, 0.0565604462473222, 0.09049671399571552, 0.04524835699785776, 0.06787253549678664, 0.12443298174410883, 0.11065213328553829, 0.22130426657107657, 0.036884044428512765, 0.5163766219991787, 0.07376808885702553, 0.036884044428512765, 0.036884044428512765, 0.2564669256746375, 0.06411673141865938, 0.22440855996530787, 0.16029182854664847, 0.09617509712798908, 0.03205836570932969, 0.06411673141865938, 0.06411673141865938, 0.2738764591567477, 0.10955058366269907, 0.2464888132410729, 0.13693822957837384, 0.10955058366269907, 0.027387645915674767, 0.027387645915674767, 0.027387645915674767, 0.054775291831349535, 0.06733493927417689, 0.04488995951611792, 0.17955983806447168, 0.13466987854835377, 0.02244497975805896, 0.26933975709670754, 0.13466987854835377, 0.02244497975805896, 0.04488995951611792, 0.08977991903223584, 0.4552042440482658, 0.08535079575904983, 0.08535079575904983, 0.14225132626508305, 0.028450265253016613, 0.028450265253016613, 0.08535079575904983, 0.11380106101206645, 0.18617249922488407, 0.33849545313615287, 0.03384954531361529, 0.13539818125446115, 0.06769909062723058, 0.016924772656807644, 0.03384954531361529, 0.03384954531361529, 0.08462386328403822, 0.05077431797042293, 0.0534717242983506, 0.16041517289505178, 0.0534717242983506, 0.0534717242983506, 0.48124551868515536, 0.1069434485967012, 0.0534717242983506, 0.2517140312828769, 0.20976169273573073, 0.1678093541885846, 0.12585701564143845, 0.04195233854714615, 0.04195233854714615, 0.0839046770942923, 0.0839046770942923, 0.020976169273573073, 0.10163287111164156, 0.1422860195562982, 0.3658783360019096, 0.06097972266698494, 0.10163287111164156, 0.06097972266698494, 0.020326574222328312, 0.06097972266698494, 0.08130629688931325, 0.044298074954839686, 0.22149037477419842, 0.08859614990967937, 0.17719229981935875, 0.3543845996387175, 0.044298074954839686, 0.044298074954839686, 0.1291937541549986, 0.21532292359166433, 0.04306458471833287, 0.04306458471833287, 0.04306458471833287, 0.4737104319016615, 0.08612916943666574, 0.10096483329598815, 0.10096483329598815, 0.03365494443199605, 0.23558461102397235, 0.03365494443199605, 0.3365494443199605, 0.03365494443199605, 0.1346197777279842, 0.03493435534956929, 0.03493435534956929, 0.5589496855931086, 0.03493435534956929, 0.06986871069913858, 0.03493435534956929, 0.13973742139827716, 0.06986871069913858, 0.03493435534956929, 0.04901041058821901, 0.3920832847057521, 0.04901041058821901, 0.34307287411753307, 0.09802082117643802, 0.04901041058821901, 0.04901041058821901, 0.1646407661645164, 0.05488025538817213, 0.05488025538817213, 0.05488025538817213, 0.6585630646580656, 0.05175850440494578, 0.15527551321483735, 0.05175850440494578, 0.2587925220247289, 0.05175850440494578, 0.10351700880989156, 0.10351700880989156, 0.05175850440494578, 0.10351700880989156, 0.06870901155675341, 0.034354505778376704, 0.06870901155675341, 0.20612703467026025, 0.06870901155675341, 0.034354505778376704, 0.24048154044863695, 0.24048154044863695, 0.1401578919126615, 0.07007894595633075, 0.03503947297816538, 0.1401578919126615, 0.10511841893449612, 0.45551314871614984, 0.03503947297816538, 0.05126682904417502, 0.05126682904417502, 0.05126682904417502, 0.05126682904417502, 0.3076009742650501, 0.46140146139757515, 0.05126682904417502, 0.05678516004492657, 0.5678516004492657, 0.05678516004492657, 0.05678516004492657, 0.05678516004492657, 0.17035548013477972, 0.0897063257558485, 0.4036784659013183, 0.13455948863377276, 0.13455948863377276, 0.13455948863377276, 0.04485316287792425, 0.04485316287792425, 0.5826782530278095, 0.04161987521627211, 0.04161987521627211, 0.12485962564881634, 0.04161987521627211, 0.08323975043254422, 0.08323975043254422, 0.04161987521627211, 0.3945154665472652, 0.1315051555157551, 0.04383505183858503, 0.04383505183858503, 0.1315051555157551, 0.04383505183858503, 0.04383505183858503, 0.1315051555157551, 0.06728301432815059, 0.033641507164075296, 0.06728301432815059, 0.20184904298445178, 0.20184904298445178, 0.10092452149222589, 0.20184904298445178, 0.13456602865630118, 0.1760451114352069, 0.1467042595293391, 0.23472681524694256, 0.08802255571760345, 0.02934085190586782, 0.1760451114352069, 0.11736340762347128, 0.02934085190586782, 0.05868170381173564, 0.05663641158951671, 0.05663641158951671, 0.6796369390742005, 0.05663641158951671, 0.05663641158951671, 0.053184351825232956, 0.31910611095139774, 0.053184351825232956, 0.053184351825232956, 0.5318435182523296, 0.12717199302568746, 0.015896499128210933, 0.07948249564105465, 0.460998474718117, 0.047689497384632795, 0.07948249564105465, 0.06358599651284373, 0.06358599651284373, 0.06358599651284373, 0.09654153110018882, 0.19308306220037763, 0.04827076555009441, 0.04827076555009441, 0.19308306220037763, 0.43443688995084967, 0.4561321579329515, 0.07602202632215858, 0.19005506580539647, 0.15204405264431717, 0.03801101316107929, 0.3488013103513101, 0.026830870027023855, 0.10732348010809542, 0.08049261008107157, 0.16098522016214314, 0.2414778302432147, 0.026830870027023855, 0.026830870027023855, 0.13038829757925582, 0.026077659515851163, 0.07823297854755348, 0.4172425522536186, 0.07823297854755348, 0.07823297854755348, 0.026077659515851163, 0.13038829757925582, 0.0333245420098943, 0.0666490840197886, 0.19994725205936578, 0.09997362602968289, 0.0333245420098943, 0.09997362602968289, 0.0666490840197886, 0.36656996210883724, 0.044884658893917066, 0.13465397668175122, 0.044884658893917066, 0.4488465889391707, 0.22442329446958534, 0.08976931778783413, 0.15746148564698517, 0.09447689138819111, 0.06298459425879407, 0.09447689138819111, 0.31492297129397034, 0.12596918851758815, 0.06298459425879407, 0.03149229712939704, 0.06462722474689939, 0.03231361237344969, 0.38776334848139626, 0.03231361237344969, 0.12925444949379877, 0.12925444949379877, 0.19388167424069813, 0.03231361237344969, 0.03231361237344969, 0.19839781579741764, 0.44639508554418966, 0.24799726974677205, 0.04959945394935441, 0.04581944115158913, 0.05727430143948642, 0.1260034631668701, 0.022909720575794566, 0.11454860287897284, 0.3436458086369185, 0.022909720575794566, 0.1260034631668701, 0.05727430143948642, 0.08018402201528098, 0.5162823420234848, 0.09386951673154269, 0.046934758365771344, 0.046934758365771344, 0.046934758365771344, 0.046934758365771344, 0.14080427509731402, 0.09386951673154269, 0.15873600286820413, 0.07054933460809072, 0.01763733365202268, 0.03527466730404536, 0.01763733365202268, 0.14109866921618144, 0.2998346720843856, 0.21164800382427218, 0.03527466730404536, 0.18923561166387803, 0.18923561166387803, 0.23654451457984754, 0.04730890291596951, 0.04730890291596951, 0.04730890291596951, 0.04730890291596951, 0.14192670874790853, 0.2622506679362728, 0.023840969812388434, 0.0715229094371653, 0.1430458188743306, 0.023840969812388434, 0.09536387924955374, 0.3576145471858265, 0.023840969812388434, 0.5244466305439143, 0.04627470269505126, 0.09254940539010252, 0.04627470269505126, 0.01542490089835042, 0.03084980179670084, 0.1542490089835042, 0.06169960359340168, 0.04627470269505126, 0.057182615135044024, 0.11436523027008805, 0.057182615135044024, 0.11436523027008805, 0.057182615135044024, 0.6290087664854843, 0.057182615135044024, 0.11060138489628044, 0.06320079136930311, 0.031600395684651554, 0.04740059352697733, 0.031600395684651554, 0.015800197842325777, 0.11060138489628044, 0.3002037590041898, 0.11060138489628044, 0.15800197842325775, 0.31803970514145713, 0.18552316133251665, 0.07950992628536428, 0.13251654380894046, 0.05300661752357619, 0.15901985257072856, 0.026503308761788094, 0.026503308761788094, 0.12592285798093916, 0.025184571596187835, 0.0755537147885635, 0.05036914319237567, 0.17629200117331484, 0.3525840023466297, 0.12592285798093916, 0.025184571596187835, 0.5872583422019951, 0.04194702444299966, 0.16778809777199863, 0.04194702444299966, 0.04194702444299966, 0.04194702444299966, 0.04194702444299966, 0.3789621151859943, 0.1684276067493308, 0.06316035253099905, 0.03158017626549953, 0.0842138033746654, 0.06316035253099905, 0.0421069016873327, 0.05263362710916587, 0.0421069016873327, 0.0842138033746654], \"Term\": [\"agent\", \"agent\", \"agent\", \"agent\", \"agent\", \"agent\", \"agent\", \"american\", \"american\", \"american\", \"american\", \"american\", \"american\", \"american\", \"american\", \"american\", \"army\", \"army\", \"army\", \"army\", \"army\", \"around\", \"around\", \"around\", \"around\", \"back\", \"back\", \"back\", \"back\", \"back\", \"back\", \"back\", \"back\", \"battle\", \"battle\", \"battle\", \"battle\", \"battle\", \"battle\", \"battle\", \"become\", \"become\", \"become\", \"become\", \"become\", \"become\", \"become\", \"becomes\", \"becomes\", \"becomes\", \"becomes\", \"becomes\", \"becomes\", \"becomes\", \"becomes\", \"boy\", \"boy\", \"boy\", \"boy\", \"boy\", \"boy\", \"boy\", \"boy\", \"boy\", \"child\", \"child\", \"child\", \"child\", \"child\", \"child\", \"child\", \"child\", \"city\", \"city\", \"city\", \"city\", \"city\", \"city\", \"city\", \"city\", \"city\", \"crime\", \"crime\", \"crime\", \"crime\", \"crime\", \"crime\", \"crime\", \"crime\", \"crime\", \"crime\", \"daughter\", \"daughter\", \"daughter\", \"daughter\", \"daughter\", \"daughter\", \"daughter\", \"daughter\", \"day\", \"day\", \"day\", \"day\", \"day\", \"day\", \"day\", \"death\", \"death\", \"death\", \"death\", \"death\", \"death\", \"detective\", \"detective\", \"detective\", \"detective\", \"detective\", \"detective\", \"detective\", \"detective\", \"discovers\", \"discovers\", \"discovers\", \"discovers\", \"discovers\", \"discovers\", \"discovers\", \"discovers\", \"falls\", \"falls\", \"falls\", \"falls\", \"falls\", \"falls\", \"falls\", \"family\", \"family\", \"family\", \"family\", \"family\", \"family\", \"family\", \"family\", \"family\", \"family\", \"father\", \"father\", \"father\", \"father\", \"father\", \"father\", \"father\", \"father\", \"father\", \"father\", \"fight\", \"fight\", \"fight\", \"fight\", \"fight\", \"fight\", \"fight\", \"fight\", \"film\", \"film\", \"film\", \"film\", \"find\", \"find\", \"find\", \"find\", \"find\", \"find\", \"find\", \"find\", \"find\", \"finds\", \"finds\", \"finds\", \"finds\", \"finds\", \"finds\", \"finds\", \"finds\", \"finds\", \"first\", \"first\", \"first\", \"first\", \"first\", \"first\", \"first\", \"first\", \"forced\", \"forced\", \"forced\", \"forced\", \"forced\", \"forced\", \"former\", \"former\", \"former\", \"former\", \"former\", \"former\", \"former\", \"former\", \"former\", \"four\", \"four\", \"four\", \"four\", \"four\", \"four\", \"four\", \"four\", \"french\", \"french\", \"french\", \"french\", \"french\", \"french\", \"french\", \"friend\", \"friend\", \"friend\", \"friend\", \"friend\", \"friend\", \"friend\", \"friends\", \"friends\", \"friends\", \"friends\", \"friends\", \"friends\", \"friends\", \"friends\", \"future\", \"future\", \"future\", \"future\", \"future\", \"future\", \"future\", \"german\", \"german\", \"german\", \"german\", \"german\", \"german\", \"german\", \"get\", \"get\", \"get\", \"get\", \"get\", \"girl\", \"girl\", \"girl\", \"girl\", \"girl\", \"girl\", \"girl\", \"goes\", \"goes\", \"goes\", \"goes\", \"goes\", \"goes\", \"goes\", \"group\", \"group\", \"group\", \"group\", \"group\", \"group\", \"group\", \"group\", \"group\", \"help\", \"help\", \"help\", \"help\", \"help\", \"help\", \"help\", \"help\", \"help\", \"help\", \"high\", \"high\", \"high\", \"high\", \"high\", \"high\", \"high\", \"high\", \"home\", \"home\", \"home\", \"home\", \"home\", \"home\", \"home\", \"home\", \"journey\", \"journey\", \"journey\", \"journey\", \"journey\", \"journey\", \"journey\", \"lawyer\", \"lawyer\", \"lawyer\", \"lawyer\", \"lawyer\", \"lawyer\", \"leads\", \"leads\", \"leads\", \"leads\", \"leads\", \"leads\", \"leads\", \"leads\", \"leads\", \"life\", \"life\", \"life\", \"life\", \"life\", \"life\", \"life\", \"life\", \"life\", \"life\", \"live\", \"live\", \"live\", \"live\", \"live\", \"live\", \"live\", \"lives\", \"lives\", \"lives\", \"lives\", \"lives\", \"lives\", \"lives\", \"lives\", \"living\", \"living\", \"living\", \"living\", \"living\", \"living\", \"living\", \"love\", \"love\", \"love\", \"love\", \"love\", \"love\", \"love\", \"love\", \"love\", \"man\", \"man\", \"man\", \"man\", \"man\", \"man\", \"man\", \"man\", \"man\", \"man\", \"men\", \"men\", \"men\", \"men\", \"men\", \"men\", \"men\", \"mother\", \"mother\", \"mother\", \"mother\", \"mother\", \"mother\", \"mother\", \"mother\", \"murder\", \"murder\", \"murder\", \"murder\", \"murder\", \"murder\", \"murder\", \"murder\", \"murder\", \"must\", \"must\", \"must\", \"must\", \"must\", \"must\", \"must\", \"must\", \"must\", \"must\", \"mysterious\", \"mysterious\", \"mysterious\", \"mysterious\", \"mysterious\", \"mysterious\", \"mysterious\", \"mysterious\", \"new\", \"new\", \"new\", \"new\", \"new\", \"new\", \"new\", \"new\", \"new\", \"new\", \"officer\", \"officer\", \"officer\", \"officer\", \"officer\", \"officer\", \"officer\", \"old\", \"old\", \"old\", \"old\", \"old\", \"old\", \"old\", \"old\", \"old\", \"one\", \"one\", \"one\", \"one\", \"one\", \"one\", \"one\", \"one\", \"one\", \"order\", \"order\", \"order\", \"order\", \"order\", \"order\", \"order\", \"past\", \"past\", \"past\", \"past\", \"past\", \"past\", \"past\", \"people\", \"people\", \"people\", \"people\", \"people\", \"people\", \"people\", \"people\", \"police\", \"police\", \"police\", \"police\", \"police\", \"police\", \"police\", \"police\", \"police\", \"relationship\", \"relationship\", \"relationship\", \"relationship\", \"relationship\", \"relationship\", \"relationship\", \"run\", \"run\", \"run\", \"run\", \"run\", \"save\", \"save\", \"save\", \"save\", \"save\", \"save\", \"save\", \"save\", \"save\", \"school\", \"school\", \"school\", \"school\", \"school\", \"school\", \"school\", \"school\", \"search\", \"search\", \"search\", \"search\", \"search\", \"search\", \"search\", \"secret\", \"secret\", \"secret\", \"secret\", \"secret\", \"secret\", \"secret\", \"sent\", \"sent\", \"sent\", \"sent\", \"sent\", \"sent\", \"series\", \"series\", \"series\", \"series\", \"series\", \"series\", \"series\", \"set\", \"set\", \"set\", \"set\", \"set\", \"set\", \"set\", \"set\", \"sets\", \"sets\", \"sets\", \"sets\", \"sets\", \"sets\", \"sets\", \"sets\", \"small\", \"small\", \"small\", \"small\", \"small\", \"small\", \"small\", \"small\", \"son\", \"son\", \"son\", \"son\", \"son\", \"son\", \"son\", \"son\", \"son\", \"star\", \"star\", \"star\", \"star\", \"star\", \"stop\", \"stop\", \"stop\", \"stop\", \"stop\", \"story\", \"story\", \"story\", \"story\", \"story\", \"story\", \"story\", \"story\", \"story\", \"struggles\", \"struggles\", \"struggles\", \"struggles\", \"struggles\", \"struggles\", \"takes\", \"takes\", \"takes\", \"takes\", \"takes\", \"team\", \"team\", \"team\", \"team\", \"team\", \"team\", \"team\", \"team\", \"three\", \"three\", \"three\", \"three\", \"three\", \"three\", \"three\", \"three\", \"time\", \"time\", \"time\", \"time\", \"time\", \"time\", \"time\", \"time\", \"together\", \"together\", \"together\", \"together\", \"together\", \"together\", \"town\", \"town\", \"town\", \"town\", \"town\", \"town\", \"town\", \"town\", \"tries\", \"tries\", \"tries\", \"tries\", \"tries\", \"tries\", \"tries\", \"tries\", \"tries\", \"true\", \"true\", \"true\", \"true\", \"two\", \"two\", \"two\", \"two\", \"two\", \"two\", \"two\", \"two\", \"two\", \"two\", \"violent\", \"violent\", \"violent\", \"violent\", \"violent\", \"violent\", \"violent\", \"violent\", \"war\", \"war\", \"war\", \"war\", \"war\", \"war\", \"war\", \"war\", \"war\", \"way\", \"way\", \"way\", \"way\", \"way\", \"way\", \"way\", \"way\", \"wife\", \"wife\", \"wife\", \"wife\", \"wife\", \"wife\", \"wife\", \"wife\", \"woman\", \"woman\", \"woman\", \"woman\", \"woman\", \"woman\", \"woman\", \"woman\", \"woman\", \"work\", \"work\", \"work\", \"work\", \"work\", \"work\", \"work\", \"world\", \"world\", \"world\", \"world\", \"world\", \"world\", \"world\", \"world\", \"world\", \"world\", \"year\", \"year\", \"year\", \"year\", \"year\", \"year\", \"year\", \"year\", \"years\", \"years\", \"years\", \"years\", \"years\", \"years\", \"years\", \"years\", \"york\", \"york\", \"york\", \"york\", \"york\", \"york\", \"york\", \"young\", \"young\", \"young\", \"young\", \"young\", \"young\", \"young\", \"young\", \"young\", \"young\"]}, \"R\": 30, \"lambda.step\": 0.01, \"plot.opts\": {\"xlab\": \"PC1\", \"ylab\": \"PC2\"}, \"topic.order\": [9, 2, 1, 6, 4, 10, 5, 8, 3, 7]};\n",
       "\n",
       "function LDAvis_load_lib(url, callback){\n",
       "  var s = document.createElement('script');\n",
       "  s.src = url;\n",
       "  s.async = true;\n",
       "  s.onreadystatechange = s.onload = callback;\n",
       "  s.onerror = function(){console.warn(\"failed to load library \" + url);};\n",
       "  document.getElementsByTagName(\"head\")[0].appendChild(s);\n",
       "}\n",
       "\n",
       "if(typeof(LDAvis) !== \"undefined\"){\n",
       "   // already loaded: just create the visualization\n",
       "   !function(LDAvis){\n",
       "       new LDAvis(\"#\" + \"ldavis_el860553628857603219221478\", ldavis_el860553628857603219221478_data);\n",
       "   }(LDAvis);\n",
       "}else if(typeof define === \"function\" && define.amd){\n",
       "   // require.js is available: use it to load d3/LDAvis\n",
       "   require.config({paths: {d3: \"https://d3js.org/d3.v5\"}});\n",
       "   require([\"d3\"], function(d3){\n",
       "      window.d3 = d3;\n",
       "      LDAvis_load_lib(\"https://cdn.jsdelivr.net/gh/bmabey/pyLDAvis@3.2.2/pyLDAvis/js/ldavis.v3.0.0.js\", function(){\n",
       "        new LDAvis(\"#\" + \"ldavis_el860553628857603219221478\", ldavis_el860553628857603219221478_data);\n",
       "      });\n",
       "    });\n",
       "}else{\n",
       "    // require.js not available: dynamically load d3 & LDAvis\n",
       "    LDAvis_load_lib(\"https://d3js.org/d3.v5.js\", function(){\n",
       "         LDAvis_load_lib(\"https://cdn.jsdelivr.net/gh/bmabey/pyLDAvis@3.2.2/pyLDAvis/js/ldavis.v3.0.0.js\", function(){\n",
       "                 new LDAvis(\"#\" + \"ldavis_el860553628857603219221478\", ldavis_el860553628857603219221478_data);\n",
       "            })\n",
       "         });\n",
       "}\n",
       "</script>"
      ],
      "text/plain": [
       "<IPython.core.display.HTML object>"
      ]
     },
     "execution_count": 51,
     "metadata": {},
     "output_type": "execute_result"
    }
   ],
   "source": [
    "vis = pyLDAvis.gensim.prepare(topic_model=lda_model_tfidf,\n",
    "                              corpus=bow_corpus,\n",
    "                              dictionary=dictionary)\n",
    "pyLDAvis.enable_notebook()\n",
    "pyLDAvis.display(vis)"
   ]
  },
  {
   "cell_type": "code",
   "execution_count": null,
   "metadata": {},
   "outputs": [],
   "source": []
  },
  {
   "cell_type": "markdown",
   "metadata": {},
   "source": [
    "#### Compute model coherence"
   ]
  },
  {
   "cell_type": "code",
   "execution_count": 29,
   "metadata": {},
   "outputs": [
    {
     "name": "stdout",
     "output_type": "stream",
     "text": [
      "Coherence score: 0.33919666307203766\n"
     ]
    }
   ],
   "source": [
    "id2word = corpora.Dictionary()\n",
    "coherence_model_lda = CoherenceModel(model = lda_model_tfidf,\n",
    "                                     texts = df.clean_overview_list,\n",
    "                                     dictionary = dictionary,\n",
    "                                     coherence = 'c_v'\n",
    "                                    )\n",
    "\n",
    "coherence_test = coherence_model_lda.get_coherence()\n",
    "print(\"Coherence score:\", coherence_test)"
   ]
  },
  {
   "cell_type": "code",
   "execution_count": null,
   "metadata": {},
   "outputs": [],
   "source": []
  },
  {
   "cell_type": "markdown",
   "metadata": {},
   "source": [
    "### Testing model"
   ]
  },
  {
   "cell_type": "code",
   "execution_count": 30,
   "metadata": {},
   "outputs": [],
   "source": [
    "def lemmatize_stemming(text):\n",
    "    stemmer = PorterStemmer()\n",
    "    return stemmer.stem(WordNetLemmatizer().lemmatize(text, pos='v'))\n",
    "\n",
    "def preprocess(text):\n",
    "    result = []\n",
    "    for token in gensim.utils.simple_preprocess(text):\n",
    "        if token not in gensim.parsing.preprocessing.STOPWORDS and len(token) > 3:\n",
    "            result.append(lemmatize_stemming(token))\n",
    "    return result"
   ]
  },
  {
   "cell_type": "code",
   "execution_count": 31,
   "metadata": {},
   "outputs": [
    {
     "name": "stdout",
     "output_type": "stream",
     "text": [
      "Score: 0.7749472856521606\t Topic: 0.054*\"world\" + 0.046*\"old\" + 0.044*\"young\" + 0.043*\"american\" + 0.041*\"daughter\"\n",
      "Score: 0.025018205866217613\t Topic: 0.079*\"young\" + 0.054*\"man\" + 0.045*\"family\" + 0.043*\"love\" + 0.042*\"year\"\n",
      "Score: 0.02500728704035282\t Topic: 0.050*\"friends\" + 0.048*\"murder\" + 0.047*\"woman\" + 0.046*\"man\" + 0.043*\"years\"\n",
      "Score: 0.025007063522934914\t Topic: 0.076*\"young\" + 0.070*\"search\" + 0.059*\"lives\" + 0.058*\"new\" + 0.042*\"school\"\n",
      "Score: 0.025005577132105827\t Topic: 0.120*\"war\" + 0.086*\"world\" + 0.059*\"three\" + 0.042*\"german\" + 0.034*\"two\"\n",
      "Score: 0.0250051561743021\t Topic: 0.097*\"man\" + 0.079*\"find\" + 0.058*\"war\" + 0.046*\"one\" + 0.043*\"journey\"\n",
      "Score: 0.025003090500831604\t Topic: 0.081*\"young\" + 0.071*\"woman\" + 0.066*\"team\" + 0.049*\"must\" + 0.043*\"story\"\n",
      "Score: 0.025002775713801384\t Topic: 0.099*\"life\" + 0.068*\"family\" + 0.065*\"one\" + 0.056*\"new\" + 0.056*\"son\"\n",
      "Score: 0.025002039968967438\t Topic: 0.079*\"town\" + 0.059*\"finds\" + 0.055*\"small\" + 0.041*\"man\" + 0.039*\"becomes\"\n",
      "Score: 0.02500149980187416\t Topic: 0.109*\"two\" + 0.087*\"life\" + 0.060*\"story\" + 0.045*\"man\" + 0.032*\"live\"\n"
     ]
    }
   ],
   "source": [
    "unseen_document = 'Three years after the demise of Jurassic World a volcanic eruption threatens the remaining dinosaurs on \\\n",
    "                   the isla Nublar so Claire Dearing the former park manager recruits Owen Grady to help prevent the extinction\\\n",
    "                   of the dinosaurs once again.'\n",
    "\n",
    "bow_vector = dictionary.doc2bow(preprocess(unseen_document))\n",
    "for index, score in sorted(lda_model[bow_vector], key=lambda tup: -1*tup[1]):\n",
    "    print(\"Score: {}\\t Topic: {}\".format(score, lda_model.print_topic(index, 5)))"
   ]
  },
  {
   "cell_type": "code",
   "execution_count": null,
   "metadata": {},
   "outputs": [],
   "source": []
  },
  {
   "cell_type": "code",
   "execution_count": null,
   "metadata": {},
   "outputs": [],
   "source": []
  }
 ],
 "metadata": {
  "kernelspec": {
   "display_name": "Python 3",
   "language": "python",
   "name": "python3"
  },
  "language_info": {
   "codemirror_mode": {
    "name": "ipython",
    "version": 3
   },
   "file_extension": ".py",
   "mimetype": "text/x-python",
   "name": "python",
   "nbconvert_exporter": "python",
   "pygments_lexer": "ipython3",
   "version": "3.7.0"
  }
 },
 "nbformat": 4,
 "nbformat_minor": 2
}
